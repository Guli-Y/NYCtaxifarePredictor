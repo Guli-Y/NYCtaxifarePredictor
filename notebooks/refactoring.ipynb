{
 "cells": [
  {
   "cell_type": "markdown",
   "metadata": {},
   "source": [
    "# Refactoring the code from NYC_taxifare_prediction.ipynb"
   ]
  },
  {
   "cell_type": "code",
   "execution_count": 1,
   "metadata": {},
   "outputs": [],
   "source": [
    "# import modules\n",
    "import gcsfs # necessary for reading csv from GCP storage\n",
    "import pandas as pd\n",
    "import numpy as np\n",
    "from termcolor import colored\n",
    "import joblib as joblib"
   ]
  },
  {
   "cell_type": "code",
   "execution_count": 2,
   "metadata": {},
   "outputs": [],
   "source": [
    "# get data\n",
    "def get_data(n=2000000):\n",
    "    # read the train.csv directly from GCP cloud storage\n",
    "    url = 'gs://nyc_taxifare_predictor/data/train.csv'\n",
    "    df = pd.read_csv(url, nrows=n, encoding='utf-8')\n",
    "    return df"
   ]
  },
  {
   "cell_type": "code",
   "execution_count": 3,
   "metadata": {},
   "outputs": [],
   "source": [
    "# train/val split\n",
    "from sklearn.model_selection import train_test_split\n",
    "def holdout(df):\n",
    "    train, test = train_test_split(df, test_size=0.1, random_state=5)\n",
    "    return (train, test)"
   ]
  },
  {
   "cell_type": "code",
   "execution_count": 4,
   "metadata": {},
   "outputs": [],
   "source": [
    "# clean data\n",
    "def clean_train(df):\n",
    "    df = df.copy()\n",
    "    # dropping the trips that are not involving NYC\n",
    "    idx_1 = df.pickup_longitude.between(-79.7624,-71.7517) & df.pickup_latitude.between(40.4772,45.0153)\n",
    "    idx_2 = df.dropoff_longitude.between(-79.7624,-71.7517) & df.dropoff_latitude.between(40.4772,45.0153)\n",
    "    df = df[idx_1|idx_2]\n",
    "    # calculate haversine distance for cleaning\n",
    "    lon1 = np.radians(df['pickup_longitude'])\n",
    "    lon2 = np.radians(df['dropoff_longitude'])\n",
    "    lat1 = np.radians(df['pickup_latitude'])\n",
    "    lat2 = np.radians(df['dropoff_latitude'])\n",
    "    delta_lon = lon2 - lon1\n",
    "    delta_lat = lat2 - lat1\n",
    "    a = (np.sin(delta_lat / 2.0)) ** 2 + np.cos(lat1) * np.cos(lat2) * (np.sin(delta_lon / 2.0)) ** 2\n",
    "    df['haversine_distance'] = 6371000 * 2 * np.arcsin(np.sqrt(a))\n",
    "    # trips with distance shorter than 200m\n",
    "    df.loc[df.haversine_distance<= 200, 'fare_amount'] = 2.5\n",
    "    # dropping trips with unrealistic fare amount\n",
    "    df = df[df.fare_amount.between(2.5, 200)]\n",
    "    return df"
   ]
  },
  {
   "cell_type": "code",
   "execution_count": 5,
   "metadata": {},
   "outputs": [],
   "source": [
    "# Time features\n",
    "from sklearn.base import BaseEstimator, TransformerMixin\n",
    "class TimeFeatures(BaseEstimator, TransformerMixin):\n",
    "    def fit(self, df, y=None):\n",
    "        return self\n",
    "    def transform(self, df, y=None):\n",
    "        # extract time features\n",
    "        df.index = pd.to_datetime(df.pickup_datetime.str.replace(' UTC', ''), format='%Y-%m-%d %H:%M:%S')\n",
    "        df.index = df.index.tz_localize('UTC').tz_convert('America/New_York')\n",
    "        # year\n",
    "        year = df.index.year\n",
    "        df['scaled_year'] = (year-2011.5)/3.5 # data are from 2008-2015, scale the year to be in range(-1,1)\n",
    "        # day of year   \n",
    "        day = df.index.dayofyear-1\n",
    "        df['dayofyear_cos'] = np.cos(np.pi*day/365)\n",
    "        df['dayofyear_sin'] = np.sin(np.pi*day/365)\n",
    "        # day of week\n",
    "        weekday = df.index.weekday\n",
    "        df['weekday_cos'] = np.cos(np.pi*weekday/6)\n",
    "        df['weekday_sin'] = np.sin(np.pi*weekday/6)\n",
    "        # hour \n",
    "        hour = df.index.hour\n",
    "        minute = df.index.minute\n",
    "        minutes = 60*hour+minute\n",
    "        df['hour_cos'] = np.cos(np.pi*minutes/1440)\n",
    "        df['hour_sin'] = np.sin(np.pi*minutes/1440)\n",
    "        # reset index\n",
    "        df = df.reset_index(drop=True)\n",
    "        return df[['scaled_year', 'dayofyear_cos', 'dayofyear_sin', 'weekday_cos', 'weekday_sin', 'hour_cos','hour_sin']]"
   ]
  },
  {
   "cell_type": "code",
   "execution_count": 6,
   "metadata": {},
   "outputs": [],
   "source": [
    "# distance features\n",
    "from sklearn.base import BaseEstimator, TransformerMixin\n",
    "class DistanceFeatures(BaseEstimator, TransformerMixin):\n",
    "    def fit(self, df, y=None):\n",
    "        return self\n",
    "    def transform(self, df, y=None):\n",
    "        # engineering haversine distance\n",
    "        lon1 = np.radians(df['pickup_longitude'])\n",
    "        lon2 = np.radians(df['dropoff_longitude'])\n",
    "        lat1 = np.radians(df['pickup_latitude'])\n",
    "        lat2 = np.radians(df['dropoff_latitude'])\n",
    "        delta_lon = lon2 - lon1\n",
    "        delta_lat = lat2 - lat1\n",
    "        a = (np.sin(delta_lat / 2.0)) ** 2 + np.cos(lat1) * np.cos(lat2) * (np.sin(delta_lon / 2.0)) ** 2\n",
    "        df['haversine_distance'] = 6371000 * 2 * np.arcsin(np.sqrt(a))\n",
    "        # engineering distance to the center\n",
    "        nyc_lat = np.radians(40.7128)\n",
    "        nyc_lon = np.radians(-74.0060)\n",
    "        delta_lon = nyc_lon - lon1\n",
    "        delta_lat = nyc_lat - lat1\n",
    "        a = (np.sin(delta_lat / 2.0)) ** 2 + np.cos(lat1) * np.cos(nyc_lat) * (np.sin(delta_lon / 2.0)) ** 2\n",
    "        df['pickup_to_center'] = 6371000 * 2 * np.arcsin(np.sqrt(a))\n",
    "        delta_lon = nyc_lon - lon2\n",
    "        delta_lat = nyc_lat - lat2\n",
    "        a = (np.sin(delta_lat / 2.0)) ** 2 + np.cos(lat2) * np.cos(nyc_lat) * (np.sin(delta_lon / 2.0)) ** 2\n",
    "        df['dropoff_to_center'] = 6371000 * 2 * np.arcsin(np.sqrt(a))\n",
    "        # select columns for return\n",
    "        df = df[['pickup_longitude', 'pickup_latitude', 'dropoff_longitude', 'dropoff_latitude', \n",
    "                 'haversine_distance', 'pickup_to_center', 'dropoff_to_center']]\n",
    "        return df"
   ]
  },
  {
   "cell_type": "code",
   "execution_count": 7,
   "metadata": {},
   "outputs": [],
   "source": [
    "# direction features\n",
    "from sklearn.base import BaseEstimator, TransformerMixin\n",
    "class DirectionFeatures(BaseEstimator, TransformerMixin):\n",
    "    def fit(self, df, y=None):\n",
    "        return self\n",
    "    def transform(self, df, y=None):\n",
    "        # engineering direction\n",
    "        lon1 = np.radians(df['pickup_longitude'])\n",
    "        lon2 = np.radians(df['dropoff_longitude'])\n",
    "        lat1 = np.radians(df['pickup_latitude'])\n",
    "        lat2 = np.radians(df['dropoff_latitude'])\n",
    "        delta_lon = lon2 - lon1\n",
    "        a = np.cos(lat2)*np.sin(delta_lon)\n",
    "        b = np.cos(lat1)*np.sin(lat2)-np.sin(lat1)*np.cos(lat2)*np.cos(delta_lon)\n",
    "        direction = np.arctan2(a, b) \n",
    "        # cyclical transform\n",
    "        df['direction_sin'] =np.sin(direction)\n",
    "        df['direction_cos'] =np.cos(direction)\n",
    "        # select columns for return\n",
    "        df = df[['direction_sin', 'direction_cos']]\n",
    "        return df"
   ]
  },
  {
   "cell_type": "code",
   "execution_count": 8,
   "metadata": {},
   "outputs": [],
   "source": [
    "# airport features\n",
    "from sklearn.base import BaseEstimator, TransformerMixin\n",
    "class AirportFeatures(BaseEstimator, TransformerMixin):\n",
    "    def fit(self, df, y=None):\n",
    "        return self\n",
    "    def transform(self, df, y=None):\n",
    "        # trips with airport involved\n",
    "        df['JFK'] = 0\n",
    "        jfk_lat = (40.618704303682776, 40.67697702311703)\n",
    "        jfk_lon = (-73.83311505102023, -73.74039257564282)\n",
    "        idx_1 = df.pickup_latitude.between(jfk_lat[0], jfk_lat[1]) & df.pickup_longitude.between(jfk_lon[0], jfk_lon[1])\n",
    "        idx_2 = df.dropoff_latitude.between(jfk_lat[0], jfk_lat[1]) & df.dropoff_longitude.between(jfk_lon[0], jfk_lon[1])\n",
    "        df.loc[(idx_1|idx_2), 'JFK'] = 1\n",
    "        df['LGA'] = 0\n",
    "        lga_lat = (40.76187641747602, 40.77769837144583)\n",
    "        lga_lon = (-73.88909476689257, -73.85813813929943)\n",
    "        idx_1 = df.pickup_latitude.between(lga_lat[0], lga_lat[1]) & df.pickup_longitude.between(lga_lon[0], lga_lon[1])\n",
    "        idx_2 = df.dropoff_latitude.between(lga_lat[0], lga_lat[1]) & df.dropoff_longitude.between(lga_lon[0], lga_lon[1])\n",
    "        df.loc[(idx_1|idx_2), 'LGA'] = 1\n",
    "        df['EWR'] = 0\n",
    "        ewr_lat = (40.656459243540475, 40.715695425611585)\n",
    "        ewr_lon = (-74.20784161826906, -74.14794832117698)\n",
    "        idx_1 = df.pickup_latitude.between(ewr_lat[0], ewr_lat[1]) & df.pickup_longitude.between(ewr_lon[0], ewr_lon[1])\n",
    "        idx_2 = df.dropoff_latitude.between(ewr_lat[0], ewr_lat[1]) & df.dropoff_longitude.between(ewr_lon[0], ewr_lon[1])\n",
    "        df.loc[(idx_1|idx_2), 'EWR'] = 1\n",
    "        # select columns for return\n",
    "        df = df[['JFK', 'LGA', 'EWR']]\n",
    "        return df"
   ]
  },
  {
   "cell_type": "code",
   "execution_count": 9,
   "metadata": {},
   "outputs": [],
   "source": [
    "# get pipeline\n",
    "from sklearn.preprocessing import StandardScaler\n",
    "from sklearn.compose import ColumnTransformer\n",
    "from sklearn.pipeline import Pipeline\n",
    "from xgboost.sklearn import XGBRegressor\n",
    "\n",
    "def get_pipeline():\n",
    "    \n",
    "    location_cols = ['pickup_longitude', 'pickup_latitude', \n",
    "                     'dropoff_longitude', 'dropoff_latitude']\n",
    "    \n",
    "    distance = Pipeline([\n",
    "        ('distance', DistanceFeatures()),\n",
    "        ('scaler', StandardScaler())\n",
    "    ])\n",
    "    preprocessor = ColumnTransformer([\n",
    "        ('time', TimeFeatures(), ['pickup_datetime']),\n",
    "        ('distance', distance, location_cols),\n",
    "        ('direction', DirectionFeatures(), location_cols),\n",
    "        ('airport', AirportFeatures(), location_cols)\n",
    "    ])\n",
    "    \n",
    "    pipe = Pipeline([\n",
    "        ('preprocessor', preprocessor),\n",
    "        ('model', XGBRegressor(learning_rate=0.1, \n",
    "                               n_estimators=200, \n",
    "                               max_depth=5, \n",
    "                               min_child_weight=2))\n",
    "    ])\n",
    "    return pipe"
   ]
  },
  {
   "cell_type": "code",
   "execution_count": 10,
   "metadata": {},
   "outputs": [],
   "source": [
    "# evaluation metric\n",
    "def get_rmse(y_true, y_pred):\n",
    "    return np.sqrt(np.mean((y_true-y_pred)**2))"
   ]
  },
  {
   "cell_type": "code",
   "execution_count": 11,
   "metadata": {},
   "outputs": [
    {
     "name": "stdout",
     "output_type": "stream",
     "text": [
      "Wall time: 0 ns\n"
     ]
    }
   ],
   "source": [
    "%%time\n",
    "# implement evaluate function\n",
    "def evaluate():\n",
    "    print(colored('#########  reading the data   #######', 'blue'))\n",
    "    df = get_data()\n",
    "    train, test = holdout(df)\n",
    "    train = clean_train(train)\n",
    "    X = ['pickup_datetime', \n",
    "         'pickup_longitude', 'pickup_latitude', \n",
    "         'dropoff_longitude', 'dropoff_latitude']\n",
    "    y = 'fare_amount'\n",
    "    pipe = get_pipeline()\n",
    "    print(colored('#########  model is learning  #######', 'red'))\n",
    "    model = pipe.fit(train[X], train[y])\n",
    "    print(colored('######### model is predicting ########', 'green'))\n",
    "    y_pred = model.predict(test[X])\n",
    "    rmse = get_rmse(test[y], y_pred)\n",
    "    print('RMSE:', rmse)"
   ]
  },
  {
   "cell_type": "code",
   "execution_count": 12,
   "metadata": {},
   "outputs": [
    {
     "name": "stdout",
     "output_type": "stream",
     "text": [
      "\u001b[34m#########  reading the data   #######\u001b[0m\n",
      "\u001b[31m#########  model is learning  #######\u001b[0m\n",
      "\u001b[32m######### model is predicting ########\u001b[0m\n",
      "RMSE: 4.607663775733503\n"
     ]
    }
   ],
   "source": [
    "evaluate()"
   ]
  },
  {
   "cell_type": "code",
   "execution_count": null,
   "metadata": {},
   "outputs": [],
   "source": []
  }
 ],
 "metadata": {
  "kernelspec": {
   "display_name": "Python 3",
   "language": "python",
   "name": "python3"
  },
  "language_info": {
   "codemirror_mode": {
    "name": "ipython",
    "version": 3
   },
   "file_extension": ".py",
   "mimetype": "text/x-python",
   "name": "python",
   "nbconvert_exporter": "python",
   "pygments_lexer": "ipython3",
   "version": "3.7.7"
  },
  "toc": {
   "base_numbering": 1,
   "nav_menu": {},
   "number_sections": true,
   "sideBar": true,
   "skip_h1_title": false,
   "title_cell": "Table of Contents",
   "title_sidebar": "Contents",
   "toc_cell": false,
   "toc_position": {},
   "toc_section_display": true,
   "toc_window_display": false
  }
 },
 "nbformat": 4,
 "nbformat_minor": 4
}

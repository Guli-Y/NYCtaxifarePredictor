{
 "cells": [
  {
   "cell_type": "markdown",
   "metadata": {},
   "source": [
    "# NYC Taxi Fare Predictor"
   ]
  },
  {
   "cell_type": "markdown",
   "metadata": {},
   "source": [
    "**Kaggle Prediction Competition**:                                        \n",
    "[New York City Taxi Fare Prediction](https://www.kaggle.com/c/new-york-city-taxi-fare-prediction)  \n",
    "\n",
    "**File descriptions**\n",
    "- train.csv - Input features and target fare_amount values for the training set (about 55M rows).                     \n",
    "- test.csv - Input features for the test set (about 10K rows). Your goal is to predict fare_amount for each row.                         \n",
    "- sample_submission.csv - a sample submission file in the correct format (columns key and fare_amount). This file 'predicts' fare_amount to be 11.35 US dollar for all rows, which is the mean fare_amount from the training set.                                  \n",
    "\n",
    "**Data fields** \n",
    "- key - Unique string identifying each row in both the training and test sets. Comprised of pickup_datetime plus a unique integer, but this doesn't matter, it should just be used as a unique ID field. Required in your submission CSV. Not necessarily needed in the training set, but could be useful to simulate a 'submission file' while doing cross-validation within the training set.                    \n",
    "\n",
    "**Features**\n",
    "- pickup_datetime - timestamp value indicating when the taxi ride started.           \n",
    "- pickup_longitude - float for longitude coordinate of where the taxi ride started.                        \n",
    "- pickup_latitude - float for latitude coordinate of where the taxi ride started.                           \n",
    "- dropoff_longitude - float for longitude coordinate of where the taxi ride ended.                           \n",
    "- dropoff_latitude - float for latitude coordinate of where the taxi ride ended.                             \n",
    "- passenger_count - integer indicating the number of passengers in the taxi ride.       \n",
    "\n",
    "**Target**                                      \n",
    "- fare_amount - float dollar amount of the cost of the taxi ride. This value is only in the training set; this is what you are predicting in the test set and it is required in your submission CSV.                                      "
   ]
  },
  {
   "cell_type": "code",
   "execution_count": 1,
   "metadata": {
    "scrolled": true
   },
   "outputs": [],
   "source": [
    "%load_ext autoreload\n",
    "%autoreload 2"
   ]
  },
  {
   "cell_type": "code",
   "execution_count": 2,
   "metadata": {},
   "outputs": [],
   "source": [
    "# import modules\n",
    "import gcsfs # necessary for reading csv from GCP storage\n",
    "import pandas as pd\n",
    "import numpy as np\n",
    "import matplotlib.pyplot as plt\n",
    "import seaborn as sns\n",
    "%matplotlib inline"
   ]
  },
  {
   "cell_type": "markdown",
   "metadata": {},
   "source": [
    "## Data sourcing"
   ]
  },
  {
   "cell_type": "markdown",
   "metadata": {},
   "source": [
    "- train and test data are downloaded and stored in GCP storage\n",
    "- let's start with first 1 million rows"
   ]
  },
  {
   "cell_type": "code",
   "execution_count": 3,
   "metadata": {},
   "outputs": [
    {
     "name": "stdout",
     "output_type": "stream",
     "text": [
      "Wall time: 12.4 s\n"
     ]
    },
    {
     "data": {
      "text/html": [
       "<div>\n",
       "<style scoped>\n",
       "    .dataframe tbody tr th:only-of-type {\n",
       "        vertical-align: middle;\n",
       "    }\n",
       "\n",
       "    .dataframe tbody tr th {\n",
       "        vertical-align: top;\n",
       "    }\n",
       "\n",
       "    .dataframe thead th {\n",
       "        text-align: right;\n",
       "    }\n",
       "</style>\n",
       "<table border=\"1\" class=\"dataframe\">\n",
       "  <thead>\n",
       "    <tr style=\"text-align: right;\">\n",
       "      <th></th>\n",
       "      <th>key</th>\n",
       "      <th>fare_amount</th>\n",
       "      <th>pickup_datetime</th>\n",
       "      <th>pickup_longitude</th>\n",
       "      <th>pickup_latitude</th>\n",
       "      <th>dropoff_longitude</th>\n",
       "      <th>dropoff_latitude</th>\n",
       "      <th>passenger_count</th>\n",
       "    </tr>\n",
       "  </thead>\n",
       "  <tbody>\n",
       "    <tr>\n",
       "      <th>0</th>\n",
       "      <td>2009-06-15 17:26:21.0000001</td>\n",
       "      <td>4.5</td>\n",
       "      <td>2009-06-15 17:26:21 UTC</td>\n",
       "      <td>-73.844311</td>\n",
       "      <td>40.721319</td>\n",
       "      <td>-73.841610</td>\n",
       "      <td>40.712278</td>\n",
       "      <td>1</td>\n",
       "    </tr>\n",
       "    <tr>\n",
       "      <th>1</th>\n",
       "      <td>2010-01-05 16:52:16.0000002</td>\n",
       "      <td>16.9</td>\n",
       "      <td>2010-01-05 16:52:16 UTC</td>\n",
       "      <td>-74.016048</td>\n",
       "      <td>40.711303</td>\n",
       "      <td>-73.979268</td>\n",
       "      <td>40.782004</td>\n",
       "      <td>1</td>\n",
       "    </tr>\n",
       "    <tr>\n",
       "      <th>2</th>\n",
       "      <td>2011-08-18 00:35:00.00000049</td>\n",
       "      <td>5.7</td>\n",
       "      <td>2011-08-18 00:35:00 UTC</td>\n",
       "      <td>-73.982738</td>\n",
       "      <td>40.761270</td>\n",
       "      <td>-73.991242</td>\n",
       "      <td>40.750562</td>\n",
       "      <td>2</td>\n",
       "    </tr>\n",
       "    <tr>\n",
       "      <th>3</th>\n",
       "      <td>2012-04-21 04:30:42.0000001</td>\n",
       "      <td>7.7</td>\n",
       "      <td>2012-04-21 04:30:42 UTC</td>\n",
       "      <td>-73.987130</td>\n",
       "      <td>40.733143</td>\n",
       "      <td>-73.991567</td>\n",
       "      <td>40.758092</td>\n",
       "      <td>1</td>\n",
       "    </tr>\n",
       "    <tr>\n",
       "      <th>4</th>\n",
       "      <td>2010-03-09 07:51:00.000000135</td>\n",
       "      <td>5.3</td>\n",
       "      <td>2010-03-09 07:51:00 UTC</td>\n",
       "      <td>-73.968095</td>\n",
       "      <td>40.768008</td>\n",
       "      <td>-73.956655</td>\n",
       "      <td>40.783762</td>\n",
       "      <td>1</td>\n",
       "    </tr>\n",
       "  </tbody>\n",
       "</table>\n",
       "</div>"
      ],
      "text/plain": [
       "                             key  fare_amount          pickup_datetime  \\\n",
       "0    2009-06-15 17:26:21.0000001          4.5  2009-06-15 17:26:21 UTC   \n",
       "1    2010-01-05 16:52:16.0000002         16.9  2010-01-05 16:52:16 UTC   \n",
       "2   2011-08-18 00:35:00.00000049          5.7  2011-08-18 00:35:00 UTC   \n",
       "3    2012-04-21 04:30:42.0000001          7.7  2012-04-21 04:30:42 UTC   \n",
       "4  2010-03-09 07:51:00.000000135          5.3  2010-03-09 07:51:00 UTC   \n",
       "\n",
       "   pickup_longitude  pickup_latitude  dropoff_longitude  dropoff_latitude  \\\n",
       "0        -73.844311        40.721319         -73.841610         40.712278   \n",
       "1        -74.016048        40.711303         -73.979268         40.782004   \n",
       "2        -73.982738        40.761270         -73.991242         40.750562   \n",
       "3        -73.987130        40.733143         -73.991567         40.758092   \n",
       "4        -73.968095        40.768008         -73.956655         40.783762   \n",
       "\n",
       "   passenger_count  \n",
       "0                1  \n",
       "1                1  \n",
       "2                2  \n",
       "3                1  \n",
       "4                1  "
      ]
     },
     "execution_count": 3,
     "metadata": {},
     "output_type": "execute_result"
    }
   ],
   "source": [
    "%%time\n",
    "# read the train.csv directly from GCP cloud storage\n",
    "url = 'gs://nyc_taxifare_predictor/raw_data/train.csv'\n",
    "df = pd.read_csv(url, nrows=1000000, encoding='utf-8')\n",
    "df.head()"
   ]
  },
  {
   "cell_type": "code",
   "execution_count": 4,
   "metadata": {},
   "outputs": [
    {
     "name": "stdout",
     "output_type": "stream",
     "text": [
      "Wall time: 621 ms\n"
     ]
    },
    {
     "data": {
      "text/html": [
       "<div>\n",
       "<style scoped>\n",
       "    .dataframe tbody tr th:only-of-type {\n",
       "        vertical-align: middle;\n",
       "    }\n",
       "\n",
       "    .dataframe tbody tr th {\n",
       "        vertical-align: top;\n",
       "    }\n",
       "\n",
       "    .dataframe thead th {\n",
       "        text-align: right;\n",
       "    }\n",
       "</style>\n",
       "<table border=\"1\" class=\"dataframe\">\n",
       "  <thead>\n",
       "    <tr style=\"text-align: right;\">\n",
       "      <th></th>\n",
       "      <th>key</th>\n",
       "      <th>pickup_datetime</th>\n",
       "      <th>pickup_longitude</th>\n",
       "      <th>pickup_latitude</th>\n",
       "      <th>dropoff_longitude</th>\n",
       "      <th>dropoff_latitude</th>\n",
       "      <th>passenger_count</th>\n",
       "    </tr>\n",
       "  </thead>\n",
       "  <tbody>\n",
       "    <tr>\n",
       "      <th>0</th>\n",
       "      <td>2015-01-27 13:08:24.0000002</td>\n",
       "      <td>2015-01-27 13:08:24 UTC</td>\n",
       "      <td>-73.973320</td>\n",
       "      <td>40.763805</td>\n",
       "      <td>-73.981430</td>\n",
       "      <td>40.743835</td>\n",
       "      <td>1</td>\n",
       "    </tr>\n",
       "    <tr>\n",
       "      <th>1</th>\n",
       "      <td>2015-01-27 13:08:24.0000003</td>\n",
       "      <td>2015-01-27 13:08:24 UTC</td>\n",
       "      <td>-73.986862</td>\n",
       "      <td>40.719383</td>\n",
       "      <td>-73.998886</td>\n",
       "      <td>40.739201</td>\n",
       "      <td>1</td>\n",
       "    </tr>\n",
       "    <tr>\n",
       "      <th>2</th>\n",
       "      <td>2011-10-08 11:53:44.0000002</td>\n",
       "      <td>2011-10-08 11:53:44 UTC</td>\n",
       "      <td>-73.982524</td>\n",
       "      <td>40.751260</td>\n",
       "      <td>-73.979654</td>\n",
       "      <td>40.746139</td>\n",
       "      <td>1</td>\n",
       "    </tr>\n",
       "    <tr>\n",
       "      <th>3</th>\n",
       "      <td>2012-12-01 21:12:12.0000002</td>\n",
       "      <td>2012-12-01 21:12:12 UTC</td>\n",
       "      <td>-73.981160</td>\n",
       "      <td>40.767807</td>\n",
       "      <td>-73.990448</td>\n",
       "      <td>40.751635</td>\n",
       "      <td>1</td>\n",
       "    </tr>\n",
       "    <tr>\n",
       "      <th>4</th>\n",
       "      <td>2012-12-01 21:12:12.0000003</td>\n",
       "      <td>2012-12-01 21:12:12 UTC</td>\n",
       "      <td>-73.966046</td>\n",
       "      <td>40.789775</td>\n",
       "      <td>-73.988565</td>\n",
       "      <td>40.744427</td>\n",
       "      <td>1</td>\n",
       "    </tr>\n",
       "  </tbody>\n",
       "</table>\n",
       "</div>"
      ],
      "text/plain": [
       "                           key          pickup_datetime  pickup_longitude  \\\n",
       "0  2015-01-27 13:08:24.0000002  2015-01-27 13:08:24 UTC        -73.973320   \n",
       "1  2015-01-27 13:08:24.0000003  2015-01-27 13:08:24 UTC        -73.986862   \n",
       "2  2011-10-08 11:53:44.0000002  2011-10-08 11:53:44 UTC        -73.982524   \n",
       "3  2012-12-01 21:12:12.0000002  2012-12-01 21:12:12 UTC        -73.981160   \n",
       "4  2012-12-01 21:12:12.0000003  2012-12-01 21:12:12 UTC        -73.966046   \n",
       "\n",
       "   pickup_latitude  dropoff_longitude  dropoff_latitude  passenger_count  \n",
       "0        40.763805         -73.981430         40.743835                1  \n",
       "1        40.719383         -73.998886         40.739201                1  \n",
       "2        40.751260         -73.979654         40.746139                1  \n",
       "3        40.767807         -73.990448         40.751635                1  \n",
       "4        40.789775         -73.988565         40.744427                1  "
      ]
     },
     "execution_count": 4,
     "metadata": {},
     "output_type": "execute_result"
    }
   ],
   "source": [
    "%%time\n",
    "# read the test.csv directly from GCP cloud storage\n",
    "url = 'gs://nyc_taxifare_predictor/raw_data/test.csv'\n",
    "test = pd.read_csv(url, encoding='utf-8')\n",
    "test.head()"
   ]
  },
  {
   "cell_type": "markdown",
   "metadata": {},
   "source": [
    "## Target exploration"
   ]
  },
  {
   "cell_type": "code",
   "execution_count": 5,
   "metadata": {},
   "outputs": [
    {
     "data": {
      "text/plain": [
       "count    1000000.000000\n",
       "mean          11.348079\n",
       "std            9.822090\n",
       "min          -44.900000\n",
       "25%            6.000000\n",
       "50%            8.500000\n",
       "75%           12.500000\n",
       "max          500.000000\n",
       "Name: fare_amount, dtype: float64"
      ]
     },
     "execution_count": 5,
     "metadata": {},
     "output_type": "execute_result"
    }
   ],
   "source": [
    "# statistic summary of target variable: fare amount\n",
    "df.fare_amount.describe()"
   ]
  },
  {
   "cell_type": "code",
   "execution_count": 6,
   "metadata": {},
   "outputs": [
    {
     "data": {
      "text/plain": [
       "count    999962.000000\n",
       "mean         11.348742\n",
       "std           9.821550\n",
       "min           0.000000\n",
       "25%           6.000000\n",
       "50%           8.500000\n",
       "75%          12.500000\n",
       "max         500.000000\n",
       "Name: fare_amount, dtype: float64"
      ]
     },
     "execution_count": 6,
     "metadata": {},
     "output_type": "execute_result"
    }
   ],
   "source": [
    "# drop non-realistic fare amounts\n",
    "df = df[df.fare_amount.between(0, 1000)]\n",
    "df.fare_amount.describe()"
   ]
  },
  {
   "cell_type": "code",
   "execution_count": 7,
   "metadata": {},
   "outputs": [
    {
     "data": {
      "text/plain": [
       "<AxesSubplot:xlabel='fare_amount', ylabel='Count'>"
      ]
     },
     "execution_count": 7,
     "metadata": {},
     "output_type": "execute_result"
    },
    {
     "data": {
      "image/png": "[encoded data removed]",
      "text/plain": [
       "<Figure size 432x288 with 1 Axes>"
      ]
     },
     "metadata": {
      "needs_background": "light"
     },
     "output_type": "display_data"
    }
   ],
   "source": [
    "# check out the distribution of dare_amount\n",
    "sns.histplot(df['fare_amount'])"
   ]
  },
  {
   "cell_type": "code",
   "execution_count": 8,
   "metadata": {
    "scrolled": true
   },
   "outputs": [
    {
     "data": {
      "image/png": "[encoded data removed]",
      "text/plain": [
       "<Figure size 1080x360 with 1 Axes>"
      ]
     },
     "metadata": {
      "needs_background": "light"
     },
     "output_type": "display_data"
    }
   ],
   "source": [
    "# create bins for fare amount\n",
    "bins = [x for x in range(0, 50, 5)]\n",
    "df['fare_bin'] = pd.cut(df.fare_amount, bins=bins).astype('str')\n",
    "# adjust fare_bin and sort by fare_bin\n",
    "df.loc[df.fare_bin=='(5.0, 10.0]', 'fare_bin'] = '(05, 10]'\n",
    "df.loc[df.fare_bin=='nan', 'fare_bin'] = '(45+]'\n",
    "df.sort_values('fare_bin', inplace=True)\n",
    "# plot\n",
    "sns.catplot(data=df, x='fare_bin', kind='count', height=5, aspect=3);"
   ]
  },
  {
   "cell_type": "markdown",
   "metadata": {},
   "source": [
    "## Feature exploration"
   ]
  },
  {
   "cell_type": "markdown",
   "metadata": {},
   "source": [
    "- let's first checkout which features are there and what are the datatypes"
   ]
  },
  {
   "cell_type": "code",
   "execution_count": 40,
   "metadata": {},
   "outputs": [
    {
     "data": {
      "text/plain": [
       "pickup_datetime      datetime64[ns, America/New_York]\n",
       "pickup_longitude                              float64\n",
       "pickup_latitude                               float64\n",
       "dropoff_longitude                             float64\n",
       "dropoff_latitude                              float64\n",
       "passenger_count                                 int64\n",
       "year                                            int64\n",
       "month                                           int64\n",
       "dayofweek                                       int64\n",
       "hour                                            int64\n",
       "hour_cos                                      float64\n",
       "dayofweek_cos                                 float64\n",
       "month_cos                                     float64\n",
       "hour_sin                                      float64\n",
       "dayofweek_sin                                 float64\n",
       "month_sin                                     float64\n",
       "dtype: object"
      ]
     },
     "execution_count": 40,
     "metadata": {},
     "output_type": "execute_result"
    }
   ],
   "source": [
    "# check data types\n",
    "df.drop(columns=['fare_amount', 'key', 'fare_bin']).dtypes"
   ]
  },
  {
   "cell_type": "markdown",
   "metadata": {
    "heading_collapsed": true
   },
   "source": [
    "### pickup_datetime"
   ]
  },
  {
   "cell_type": "markdown",
   "metadata": {
    "hidden": true
   },
   "source": [
    "- let's first extract some features from pickup_datetime"
   ]
  },
  {
   "cell_type": "code",
   "execution_count": 42,
   "metadata": {
    "hidden": true,
    "scrolled": true
   },
   "outputs": [
    {
     "data": {
      "text/plain": [
       "datetime64[ns, America/New_York]"
      ]
     },
     "execution_count": 42,
     "metadata": {},
     "output_type": "execute_result"
    }
   ],
   "source": [
    "df.pickup_datetime.dtypes"
   ]
  },
  {
   "cell_type": "code",
   "execution_count": 11,
   "metadata": {
    "hidden": true
   },
   "outputs": [],
   "source": [
    "# extract time features\n",
    "def get_time_features(df):\n",
    "    df.index = pd.to_datetime(df.pickup_datetime.str.replace(' UTC', ''), format='%Y-%m-%d %H:%M:%S')\n",
    "    df.index = df.index.tz_localize('UTC').tz_convert('America/New_York')\n",
    "    df['year'] = df.index.year\n",
    "    df['month'] = df.index.month\n",
    "    df['dayofweek'] = df.index.weekday\n",
    "    df['hour'] = df.index.hour\n",
    "    df.drop('pickup_datetime', axis=1, inplace=True)\n",
    "    return df.reset_index()"
   ]
  },
  {
   "cell_type": "code",
   "execution_count": 13,
   "metadata": {
    "hidden": true
   },
   "outputs": [
    {
     "data": {
      "text/html": [
       "<div>\n",
       "<style scoped>\n",
       "    .dataframe tbody tr th:only-of-type {\n",
       "        vertical-align: middle;\n",
       "    }\n",
       "\n",
       "    .dataframe tbody tr th {\n",
       "        vertical-align: top;\n",
       "    }\n",
       "\n",
       "    .dataframe thead th {\n",
       "        text-align: right;\n",
       "    }\n",
       "</style>\n",
       "<table border=\"1\" class=\"dataframe\">\n",
       "  <thead>\n",
       "    <tr style=\"text-align: right;\">\n",
       "      <th></th>\n",
       "      <th>pickup_datetime</th>\n",
       "      <th>key</th>\n",
       "      <th>fare_amount</th>\n",
       "      <th>pickup_longitude</th>\n",
       "      <th>pickup_latitude</th>\n",
       "      <th>dropoff_longitude</th>\n",
       "      <th>dropoff_latitude</th>\n",
       "      <th>passenger_count</th>\n",
       "      <th>fare_bin</th>\n",
       "      <th>year</th>\n",
       "      <th>month</th>\n",
       "      <th>dayofweek</th>\n",
       "      <th>hour</th>\n",
       "    </tr>\n",
       "  </thead>\n",
       "  <tbody>\n",
       "    <tr>\n",
       "      <th>0</th>\n",
       "      <td>2009-06-15 13:26:21-04:00</td>\n",
       "      <td>2009-06-15 17:26:21.0000001</td>\n",
       "      <td>4.5</td>\n",
       "      <td>-73.844311</td>\n",
       "      <td>40.721319</td>\n",
       "      <td>-73.841610</td>\n",
       "      <td>40.712278</td>\n",
       "      <td>1</td>\n",
       "      <td>(0.0, 5.0]</td>\n",
       "      <td>2009</td>\n",
       "      <td>6</td>\n",
       "      <td>0</td>\n",
       "      <td>13</td>\n",
       "    </tr>\n",
       "    <tr>\n",
       "      <th>1</th>\n",
       "      <td>2010-02-12 21:22:15-05:00</td>\n",
       "      <td>2010-02-13 02:22:15.0000006</td>\n",
       "      <td>4.5</td>\n",
       "      <td>-73.995530</td>\n",
       "      <td>40.744140</td>\n",
       "      <td>-74.000129</td>\n",
       "      <td>40.734766</td>\n",
       "      <td>1</td>\n",
       "      <td>(0.0, 5.0]</td>\n",
       "      <td>2010</td>\n",
       "      <td>2</td>\n",
       "      <td>4</td>\n",
       "      <td>21</td>\n",
       "    </tr>\n",
       "    <tr>\n",
       "      <th>2</th>\n",
       "      <td>2011-03-25 15:17:57-04:00</td>\n",
       "      <td>2011-03-25 19:17:57.0000004</td>\n",
       "      <td>4.1</td>\n",
       "      <td>-73.955227</td>\n",
       "      <td>40.764276</td>\n",
       "      <td>-73.963834</td>\n",
       "      <td>40.761401</td>\n",
       "      <td>1</td>\n",
       "      <td>(0.0, 5.0]</td>\n",
       "      <td>2011</td>\n",
       "      <td>3</td>\n",
       "      <td>4</td>\n",
       "      <td>15</td>\n",
       "    </tr>\n",
       "    <tr>\n",
       "      <th>3</th>\n",
       "      <td>2011-10-05 02:16:00-04:00</td>\n",
       "      <td>2011-10-05 06:16:00.00000029</td>\n",
       "      <td>4.9</td>\n",
       "      <td>-73.996563</td>\n",
       "      <td>40.743817</td>\n",
       "      <td>-73.987188</td>\n",
       "      <td>40.750105</td>\n",
       "      <td>3</td>\n",
       "      <td>(0.0, 5.0]</td>\n",
       "      <td>2011</td>\n",
       "      <td>10</td>\n",
       "      <td>2</td>\n",
       "      <td>2</td>\n",
       "    </tr>\n",
       "    <tr>\n",
       "      <th>4</th>\n",
       "      <td>2010-01-15 12:13:00-05:00</td>\n",
       "      <td>2010-01-15 17:13:00.000000142</td>\n",
       "      <td>4.9</td>\n",
       "      <td>-73.960937</td>\n",
       "      <td>40.761060</td>\n",
       "      <td>-73.960550</td>\n",
       "      <td>40.768838</td>\n",
       "      <td>1</td>\n",
       "      <td>(0.0, 5.0]</td>\n",
       "      <td>2010</td>\n",
       "      <td>1</td>\n",
       "      <td>4</td>\n",
       "      <td>12</td>\n",
       "    </tr>\n",
       "  </tbody>\n",
       "</table>\n",
       "</div>"
      ],
      "text/plain": [
       "            pickup_datetime                            key  fare_amount  \\\n",
       "0 2009-06-15 13:26:21-04:00    2009-06-15 17:26:21.0000001          4.5   \n",
       "1 2010-02-12 21:22:15-05:00    2010-02-13 02:22:15.0000006          4.5   \n",
       "2 2011-03-25 15:17:57-04:00    2011-03-25 19:17:57.0000004          4.1   \n",
       "3 2011-10-05 02:16:00-04:00   2011-10-05 06:16:00.00000029          4.9   \n",
       "4 2010-01-15 12:13:00-05:00  2010-01-15 17:13:00.000000142          4.9   \n",
       "\n",
       "   pickup_longitude  pickup_latitude  dropoff_longitude  dropoff_latitude  \\\n",
       "0        -73.844311        40.721319         -73.841610         40.712278   \n",
       "1        -73.995530        40.744140         -74.000129         40.734766   \n",
       "2        -73.955227        40.764276         -73.963834         40.761401   \n",
       "3        -73.996563        40.743817         -73.987188         40.750105   \n",
       "4        -73.960937        40.761060         -73.960550         40.768838   \n",
       "\n",
       "   passenger_count    fare_bin  year  month  dayofweek  hour  \n",
       "0                1  (0.0, 5.0]  2009      6          0    13  \n",
       "1                1  (0.0, 5.0]  2010      2          4    21  \n",
       "2                1  (0.0, 5.0]  2011      3          4    15  \n",
       "3                3  (0.0, 5.0]  2011     10          2     2  \n",
       "4                1  (0.0, 5.0]  2010      1          4    12  "
      ]
     },
     "execution_count": 13,
     "metadata": {},
     "output_type": "execute_result"
    }
   ],
   "source": [
    "df = get_time_features(df)\n",
    "df.head()"
   ]
  },
  {
   "cell_type": "code",
   "execution_count": 35,
   "metadata": {
    "hidden": true
   },
   "outputs": [],
   "source": [
    "# transform cyclical features\n",
    "def transform_cyclical_features(df):\n",
    "    cols=['hour','dayofweek', 'month']\n",
    "    gap = df[cols].max()-df[cols].min()\n",
    "    cos_cols = []\n",
    "    sin_cols = []\n",
    "    for col in cols:\n",
    "        cos_col = col + '_cos'\n",
    "        cos_cols.append(cos_col)\n",
    "        sin_col = col + '_sin'\n",
    "        sin_cols.append(sin_col)\n",
    "    # cosine transfrom\n",
    "    df[cos_cols] = np.cos(2*np.pi*df[cols]/gap)\n",
    "    # sine transform\n",
    "    df[sin_cols] = np.sin(2*np.pi*df[cols]/gap)\n",
    "    return df  "
   ]
  },
  {
   "cell_type": "code",
   "execution_count": 36,
   "metadata": {
    "hidden": true,
    "scrolled": true
   },
   "outputs": [
    {
     "data": {
      "text/html": [
       "<div>\n",
       "<style scoped>\n",
       "    .dataframe tbody tr th:only-of-type {\n",
       "        vertical-align: middle;\n",
       "    }\n",
       "\n",
       "    .dataframe tbody tr th {\n",
       "        vertical-align: top;\n",
       "    }\n",
       "\n",
       "    .dataframe thead th {\n",
       "        text-align: right;\n",
       "    }\n",
       "</style>\n",
       "<table border=\"1\" class=\"dataframe\">\n",
       "  <thead>\n",
       "    <tr style=\"text-align: right;\">\n",
       "      <th></th>\n",
       "      <th>pickup_datetime</th>\n",
       "      <th>key</th>\n",
       "      <th>fare_amount</th>\n",
       "      <th>pickup_longitude</th>\n",
       "      <th>pickup_latitude</th>\n",
       "      <th>dropoff_longitude</th>\n",
       "      <th>dropoff_latitude</th>\n",
       "      <th>passenger_count</th>\n",
       "      <th>fare_bin</th>\n",
       "      <th>year</th>\n",
       "      <th>month</th>\n",
       "      <th>dayofweek</th>\n",
       "      <th>hour</th>\n",
       "      <th>hour_cos</th>\n",
       "      <th>dayofweek_cos</th>\n",
       "      <th>month_cos</th>\n",
       "      <th>hour_sin</th>\n",
       "      <th>dayofweek_sin</th>\n",
       "      <th>month_sin</th>\n",
       "    </tr>\n",
       "  </thead>\n",
       "  <tbody>\n",
       "    <tr>\n",
       "      <th>0</th>\n",
       "      <td>2009-06-15 13:26:21-04:00</td>\n",
       "      <td>2009-06-15 17:26:21.0000001</td>\n",
       "      <td>4.5</td>\n",
       "      <td>-73.844311</td>\n",
       "      <td>40.721319</td>\n",
       "      <td>-73.841610</td>\n",
       "      <td>40.712278</td>\n",
       "      <td>1</td>\n",
       "      <td>(0.0, 5.0]</td>\n",
       "      <td>2009</td>\n",
       "      <td>6</td>\n",
       "      <td>0</td>\n",
       "      <td>13</td>\n",
       "      <td>-0.917211</td>\n",
       "      <td>1.0</td>\n",
       "      <td>-0.959493</td>\n",
       "      <td>-0.398401</td>\n",
       "      <td>0.000000</td>\n",
       "      <td>-0.281733</td>\n",
       "    </tr>\n",
       "    <tr>\n",
       "      <th>1</th>\n",
       "      <td>2010-02-12 21:22:15-05:00</td>\n",
       "      <td>2010-02-13 02:22:15.0000006</td>\n",
       "      <td>4.5</td>\n",
       "      <td>-73.995530</td>\n",
       "      <td>40.744140</td>\n",
       "      <td>-74.000129</td>\n",
       "      <td>40.734766</td>\n",
       "      <td>1</td>\n",
       "      <td>(0.0, 5.0]</td>\n",
       "      <td>2010</td>\n",
       "      <td>2</td>\n",
       "      <td>4</td>\n",
       "      <td>21</td>\n",
       "      <td>0.854419</td>\n",
       "      <td>-0.5</td>\n",
       "      <td>0.415415</td>\n",
       "      <td>-0.519584</td>\n",
       "      <td>-0.866025</td>\n",
       "      <td>0.909632</td>\n",
       "    </tr>\n",
       "    <tr>\n",
       "      <th>2</th>\n",
       "      <td>2011-03-25 15:17:57-04:00</td>\n",
       "      <td>2011-03-25 19:17:57.0000004</td>\n",
       "      <td>4.1</td>\n",
       "      <td>-73.955227</td>\n",
       "      <td>40.764276</td>\n",
       "      <td>-73.963834</td>\n",
       "      <td>40.761401</td>\n",
       "      <td>1</td>\n",
       "      <td>(0.0, 5.0]</td>\n",
       "      <td>2011</td>\n",
       "      <td>3</td>\n",
       "      <td>4</td>\n",
       "      <td>15</td>\n",
       "      <td>-0.576680</td>\n",
       "      <td>-0.5</td>\n",
       "      <td>-0.142315</td>\n",
       "      <td>-0.816970</td>\n",
       "      <td>-0.866025</td>\n",
       "      <td>0.989821</td>\n",
       "    </tr>\n",
       "    <tr>\n",
       "      <th>3</th>\n",
       "      <td>2011-10-05 02:16:00-04:00</td>\n",
       "      <td>2011-10-05 06:16:00.00000029</td>\n",
       "      <td>4.9</td>\n",
       "      <td>-73.996563</td>\n",
       "      <td>40.743817</td>\n",
       "      <td>-73.987188</td>\n",
       "      <td>40.750105</td>\n",
       "      <td>3</td>\n",
       "      <td>(0.0, 5.0]</td>\n",
       "      <td>2011</td>\n",
       "      <td>10</td>\n",
       "      <td>2</td>\n",
       "      <td>2</td>\n",
       "      <td>0.854419</td>\n",
       "      <td>-0.5</td>\n",
       "      <td>0.841254</td>\n",
       "      <td>0.519584</td>\n",
       "      <td>0.866025</td>\n",
       "      <td>-0.540641</td>\n",
       "    </tr>\n",
       "    <tr>\n",
       "      <th>4</th>\n",
       "      <td>2010-01-15 12:13:00-05:00</td>\n",
       "      <td>2010-01-15 17:13:00.000000142</td>\n",
       "      <td>4.9</td>\n",
       "      <td>-73.960937</td>\n",
       "      <td>40.761060</td>\n",
       "      <td>-73.960550</td>\n",
       "      <td>40.768838</td>\n",
       "      <td>1</td>\n",
       "      <td>(0.0, 5.0]</td>\n",
       "      <td>2010</td>\n",
       "      <td>1</td>\n",
       "      <td>4</td>\n",
       "      <td>12</td>\n",
       "      <td>-0.990686</td>\n",
       "      <td>-0.5</td>\n",
       "      <td>0.841254</td>\n",
       "      <td>-0.136167</td>\n",
       "      <td>-0.866025</td>\n",
       "      <td>0.540641</td>\n",
       "    </tr>\n",
       "  </tbody>\n",
       "</table>\n",
       "</div>"
      ],
      "text/plain": [
       "            pickup_datetime                            key  fare_amount  \\\n",
       "0 2009-06-15 13:26:21-04:00    2009-06-15 17:26:21.0000001          4.5   \n",
       "1 2010-02-12 21:22:15-05:00    2010-02-13 02:22:15.0000006          4.5   \n",
       "2 2011-03-25 15:17:57-04:00    2011-03-25 19:17:57.0000004          4.1   \n",
       "3 2011-10-05 02:16:00-04:00   2011-10-05 06:16:00.00000029          4.9   \n",
       "4 2010-01-15 12:13:00-05:00  2010-01-15 17:13:00.000000142          4.9   \n",
       "\n",
       "   pickup_longitude  pickup_latitude  dropoff_longitude  dropoff_latitude  \\\n",
       "0        -73.844311        40.721319         -73.841610         40.712278   \n",
       "1        -73.995530        40.744140         -74.000129         40.734766   \n",
       "2        -73.955227        40.764276         -73.963834         40.761401   \n",
       "3        -73.996563        40.743817         -73.987188         40.750105   \n",
       "4        -73.960937        40.761060         -73.960550         40.768838   \n",
       "\n",
       "   passenger_count    fare_bin  year  month  dayofweek  hour  hour_cos  \\\n",
       "0                1  (0.0, 5.0]  2009      6          0    13 -0.917211   \n",
       "1                1  (0.0, 5.0]  2010      2          4    21  0.854419   \n",
       "2                1  (0.0, 5.0]  2011      3          4    15 -0.576680   \n",
       "3                3  (0.0, 5.0]  2011     10          2     2  0.854419   \n",
       "4                1  (0.0, 5.0]  2010      1          4    12 -0.990686   \n",
       "\n",
       "   dayofweek_cos  month_cos  hour_sin  dayofweek_sin  month_sin  \n",
       "0            1.0  -0.959493 -0.398401       0.000000  -0.281733  \n",
       "1           -0.5   0.415415 -0.519584      -0.866025   0.909632  \n",
       "2           -0.5  -0.142315 -0.816970      -0.866025   0.989821  \n",
       "3           -0.5   0.841254  0.519584       0.866025  -0.540641  \n",
       "4           -0.5   0.841254 -0.136167      -0.866025   0.540641  "
      ]
     },
     "execution_count": 36,
     "metadata": {},
     "output_type": "execute_result"
    }
   ],
   "source": [
    "df = transform_cyclical_features(df)\n",
    "df.head()"
   ]
  },
  {
   "cell_type": "markdown",
   "metadata": {},
   "source": [
    "### locations"
   ]
  },
  {
   "cell_type": "markdown",
   "metadata": {},
   "source": [
    "- Now, let's extract some features from geolocations"
   ]
  },
  {
   "cell_type": "code",
   "execution_count": 45,
   "metadata": {},
   "outputs": [
    {
     "data": {
      "text/html": [
       "<div>\n",
       "<style scoped>\n",
       "    .dataframe tbody tr th:only-of-type {\n",
       "        vertical-align: middle;\n",
       "    }\n",
       "\n",
       "    .dataframe tbody tr th {\n",
       "        vertical-align: top;\n",
       "    }\n",
       "\n",
       "    .dataframe thead th {\n",
       "        text-align: right;\n",
       "    }\n",
       "</style>\n",
       "<table border=\"1\" class=\"dataframe\">\n",
       "  <thead>\n",
       "    <tr style=\"text-align: right;\">\n",
       "      <th></th>\n",
       "      <th>pickup_longitude</th>\n",
       "      <th>pickup_latitude</th>\n",
       "      <th>dropoff_longitude</th>\n",
       "      <th>dropoff_latitude</th>\n",
       "    </tr>\n",
       "  </thead>\n",
       "  <tbody>\n",
       "    <tr>\n",
       "      <th>count</th>\n",
       "      <td>999962.000000</td>\n",
       "      <td>999962.000000</td>\n",
       "      <td>999952.000000</td>\n",
       "      <td>999952.000000</td>\n",
       "    </tr>\n",
       "    <tr>\n",
       "      <th>mean</th>\n",
       "      <td>-72.526660</td>\n",
       "      <td>39.929017</td>\n",
       "      <td>-72.528101</td>\n",
       "      <td>39.920086</td>\n",
       "    </tr>\n",
       "    <tr>\n",
       "      <th>std</th>\n",
       "      <td>12.057945</td>\n",
       "      <td>7.626193</td>\n",
       "      <td>11.323777</td>\n",
       "      <td>8.201183</td>\n",
       "    </tr>\n",
       "    <tr>\n",
       "      <th>min</th>\n",
       "      <td>-3377.680935</td>\n",
       "      <td>-3116.285383</td>\n",
       "      <td>-3383.296608</td>\n",
       "      <td>-3114.338567</td>\n",
       "    </tr>\n",
       "    <tr>\n",
       "      <th>25%</th>\n",
       "      <td>-73.992060</td>\n",
       "      <td>40.734965</td>\n",
       "      <td>-73.991385</td>\n",
       "      <td>40.734047</td>\n",
       "    </tr>\n",
       "    <tr>\n",
       "      <th>50%</th>\n",
       "      <td>-73.981792</td>\n",
       "      <td>40.752695</td>\n",
       "      <td>-73.980135</td>\n",
       "      <td>40.753166</td>\n",
       "    </tr>\n",
       "    <tr>\n",
       "      <th>75%</th>\n",
       "      <td>-73.967095</td>\n",
       "      <td>40.767154</td>\n",
       "      <td>-73.963654</td>\n",
       "      <td>40.768129</td>\n",
       "    </tr>\n",
       "    <tr>\n",
       "      <th>max</th>\n",
       "      <td>2522.271325</td>\n",
       "      <td>2621.628430</td>\n",
       "      <td>45.581619</td>\n",
       "      <td>1651.553433</td>\n",
       "    </tr>\n",
       "  </tbody>\n",
       "</table>\n",
       "</div>"
      ],
      "text/plain": [
       "       pickup_longitude  pickup_latitude  dropoff_longitude  dropoff_latitude\n",
       "count     999962.000000    999962.000000      999952.000000     999952.000000\n",
       "mean         -72.526660        39.929017         -72.528101         39.920086\n",
       "std           12.057945         7.626193          11.323777          8.201183\n",
       "min        -3377.680935     -3116.285383       -3383.296608      -3114.338567\n",
       "25%          -73.992060        40.734965         -73.991385         40.734047\n",
       "50%          -73.981792        40.752695         -73.980135         40.753166\n",
       "75%          -73.967095        40.767154         -73.963654         40.768129\n",
       "max         2522.271325      2621.628430          45.581619       1651.553433"
      ]
     },
     "execution_count": 45,
     "metadata": {},
     "output_type": "execute_result"
    }
   ],
   "source": [
    "df[['pickup_longitude','pickup_latitude', 'dropoff_longitude', 'dropoff_latitude']].describe()"
   ]
  },
  {
   "cell_type": "markdown",
   "metadata": {},
   "source": [
    "- latitude ranges from -90 to 90 and longitude ranges -180 to 180. Let's remove the non-realistic data points."
   ]
  },
  {
   "cell_type": "code",
   "execution_count": 48,
   "metadata": {},
   "outputs": [],
   "source": [
    "def lat_long_clean(df):\n",
    "    df = df[df.pickup_longitude.between(-180, 180)]\n",
    "    df = df[df.pickup_latitude.between(-90, 90)]\n",
    "    df = df[df.dropoff_longitude.between(-180, 180)]\n",
    "    df = df[df.dropoff_latitude.between(-90, 90)]\n",
    "    return df"
   ]
  },
  {
   "cell_type": "code",
   "execution_count": 49,
   "metadata": {},
   "outputs": [],
   "source": [
    "df = lat_long_clean(df)"
   ]
  },
  {
   "cell_type": "code",
   "execution_count": 52,
   "metadata": {},
   "outputs": [
    {
     "data": {
      "text/html": [
       "<div>\n",
       "<style scoped>\n",
       "    .dataframe tbody tr th:only-of-type {\n",
       "        vertical-align: middle;\n",
       "    }\n",
       "\n",
       "    .dataframe tbody tr th {\n",
       "        vertical-align: top;\n",
       "    }\n",
       "\n",
       "    .dataframe thead th {\n",
       "        text-align: right;\n",
       "    }\n",
       "</style>\n",
       "<table border=\"1\" class=\"dataframe\">\n",
       "  <thead>\n",
       "    <tr style=\"text-align: right;\">\n",
       "      <th></th>\n",
       "      <th>pickup_longitude</th>\n",
       "      <th>pickup_latitude</th>\n",
       "      <th>dropoff_longitude</th>\n",
       "      <th>dropoff_latitude</th>\n",
       "    </tr>\n",
       "  </thead>\n",
       "  <tbody>\n",
       "    <tr>\n",
       "      <th>count</th>\n",
       "      <td>999912.000000</td>\n",
       "      <td>999912.000000</td>\n",
       "      <td>999912.000000</td>\n",
       "      <td>999912.000000</td>\n",
       "    </tr>\n",
       "    <tr>\n",
       "      <th>mean</th>\n",
       "      <td>-72.517323</td>\n",
       "      <td>39.926754</td>\n",
       "      <td>-72.515465</td>\n",
       "      <td>39.925998</td>\n",
       "    </tr>\n",
       "    <tr>\n",
       "      <th>std</th>\n",
       "      <td>10.393533</td>\n",
       "      <td>6.089366</td>\n",
       "      <td>10.396548</td>\n",
       "      <td>6.093337</td>\n",
       "    </tr>\n",
       "    <tr>\n",
       "      <th>min</th>\n",
       "      <td>-128.175950</td>\n",
       "      <td>-74.016587</td>\n",
       "      <td>-121.391248</td>\n",
       "      <td>-74.035197</td>\n",
       "    </tr>\n",
       "    <tr>\n",
       "      <th>25%</th>\n",
       "      <td>-73.992060</td>\n",
       "      <td>40.734965</td>\n",
       "      <td>-73.991385</td>\n",
       "      <td>40.734047</td>\n",
       "    </tr>\n",
       "    <tr>\n",
       "      <th>50%</th>\n",
       "      <td>-73.981792</td>\n",
       "      <td>40.752695</td>\n",
       "      <td>-73.980135</td>\n",
       "      <td>40.753166</td>\n",
       "    </tr>\n",
       "    <tr>\n",
       "      <th>75%</th>\n",
       "      <td>-73.967095</td>\n",
       "      <td>40.767153</td>\n",
       "      <td>-73.963654</td>\n",
       "      <td>40.768128</td>\n",
       "    </tr>\n",
       "    <tr>\n",
       "      <th>max</th>\n",
       "      <td>40.850357</td>\n",
       "      <td>69.400000</td>\n",
       "      <td>45.581619</td>\n",
       "      <td>81.510177</td>\n",
       "    </tr>\n",
       "  </tbody>\n",
       "</table>\n",
       "</div>"
      ],
      "text/plain": [
       "       pickup_longitude  pickup_latitude  dropoff_longitude  dropoff_latitude\n",
       "count     999912.000000    999912.000000      999912.000000     999912.000000\n",
       "mean         -72.517323        39.926754         -72.515465         39.925998\n",
       "std           10.393533         6.089366          10.396548          6.093337\n",
       "min         -128.175950       -74.016587        -121.391248        -74.035197\n",
       "25%          -73.992060        40.734965         -73.991385         40.734047\n",
       "50%          -73.981792        40.752695         -73.980135         40.753166\n",
       "75%          -73.967095        40.767153         -73.963654         40.768128\n",
       "max           40.850357        69.400000          45.581619         81.510177"
      ]
     },
     "execution_count": 52,
     "metadata": {},
     "output_type": "execute_result"
    }
   ],
   "source": [
    "df[['pickup_longitude','pickup_latitude', 'dropoff_longitude', 'dropoff_latitude']].describe()"
   ]
  },
  {
   "cell_type": "markdown",
   "metadata": {},
   "source": [
    "#### distance"
   ]
  },
  {
   "cell_type": "code",
   "execution_count": null,
   "metadata": {},
   "outputs": [],
   "source": [
    "# extract distance features"
   ]
  },
  {
   "cell_type": "markdown",
   "metadata": {},
   "source": [
    "#### direction"
   ]
  },
  {
   "cell_type": "markdown",
   "metadata": {},
   "source": [
    "### passenger"
   ]
  },
  {
   "cell_type": "markdown",
   "metadata": {},
   "source": [
    "## Evaluation metric"
   ]
  },
  {
   "cell_type": "markdown",
   "metadata": {},
   "source": [
    "## Baseline model"
   ]
  },
  {
   "cell_type": "markdown",
   "metadata": {},
   "source": [
    "## Models"
   ]
  }
 ],
 "metadata": {
  "kernelspec": {
   "display_name": "Python 3",
   "language": "python",
   "name": "python3"
  },
  "language_info": {
   "codemirror_mode": {
    "name": "ipython",
    "version": 3
   },
   "file_extension": ".py",
   "mimetype": "text/x-python",
   "name": "python",
   "nbconvert_exporter": "python",
   "pygments_lexer": "ipython3",
   "version": "3.7.7"
  },
  "toc": {
   "base_numbering": 1,
   "nav_menu": {},
   "number_sections": true,
   "sideBar": true,
   "skip_h1_title": false,
   "title_cell": "Table of Contents",
   "title_sidebar": "Contents",
   "toc_cell": false,
   "toc_position": {},
   "toc_section_display": true,
   "toc_window_display": true
  }
 },
 "nbformat": 4,
 "nbformat_minor": 4
}

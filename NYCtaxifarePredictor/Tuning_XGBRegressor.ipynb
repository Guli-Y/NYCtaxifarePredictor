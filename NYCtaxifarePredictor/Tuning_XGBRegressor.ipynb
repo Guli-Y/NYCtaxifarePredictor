{
 "cells": [
  {
   "cell_type": "code",
   "execution_count": 1,
   "metadata": {},
   "outputs": [],
   "source": [
    "%load_ext autoreload\n",
    "%autoreload 2"
   ]
  },
  {
   "cell_type": "code",
   "execution_count": 2,
   "metadata": {},
   "outputs": [],
   "source": [
    "from NYCtaxifarePredictor.trainer import Trainer\n",
    "from NYCtaxifarePredictor.data import get_data"
   ]
  },
  {
   "cell_type": "code",
   "execution_count": 3,
   "metadata": {},
   "outputs": [],
   "source": [
    "df = get_data(n=100000)"
   ]
  },
  {
   "cell_type": "markdown",
   "metadata": {},
   "source": [
    "## max_depth"
   ]
  },
  {
   "cell_type": "code",
   "execution_count": 4,
   "metadata": {},
   "outputs": [
    {
     "name": "stdout",
     "output_type": "stream",
     "text": [
      "\u001b[32m---------------------- loading data  ----------------------\u001b[0m\n",
      "\u001b[31m---------------------- split = True ----------------------\u001b[0m\n",
      "{'test_size': 0.1, 'random_state': 5}\n",
      "\u001b[34m---------------------- splitting train/val  ----------------------\u001b[0m\n",
      "\u001b[34m---------------------- cleaning data  ----------------------\u001b[0m\n",
      "\u001b[34m---------------------- getting pipeline  ----------------------\u001b[0m\n",
      "\u001b[34m---------------------- getting estimator  ----------------------\u001b[0m\n",
      "\u001b[31m---------------------- XGBRegressor ----------------------\u001b[0m\n",
      "\u001b[32m---------------------- start training  ----------------------\u001b[0m\n",
      "Fitting 5 folds for each of 1 candidates, totalling 5 fits\n"
     ]
    },
    {
     "name": "stderr",
     "output_type": "stream",
     "text": [
      "[Parallel(n_jobs=1)]: Using backend SequentialBackend with 1 concurrent workers.\n",
      "[Parallel(n_jobs=1)]: Done   5 out of   5 | elapsed:   33.4s finished\n"
     ]
    },
    {
     "name": "stdout",
     "output_type": "stream",
     "text": [
      "\u001b[31m---------------------- best_params ----------------------\u001b[0m\n",
      "{'model__learning_rate': 0.1, 'model__max_depth': 3, 'model__min_child_weight': 2, 'model__n_estimators': 100}\n",
      "train time: 41\n",
      "\u001b[32m---------------------- evaluating  ----------------------\u001b[0m\n",
      "\u001b[31m---------------------- train_RMSE: 3.229  ----------------------\u001b[0m\n",
      "\u001b[31m----------------------  test_RMSE: 5.454  ----------------------\u001b[0m\n",
      "\u001b[32m---------------------- logging params and metrics  ----------------------\u001b[0m\n",
      "Wall time: 44.5 s\n"
     ]
    }
   ],
   "source": [
    "%%time\n",
    "xgb = Trainer(df, mlflow=True, estimator_params=dict(\n",
    "                                                    n_estimators=[100],\n",
    "                                                    max_depth=[3],\n",
    "                                                    min_child_weight=[2],\n",
    "                                                    learning_rate=[0.1]\n",
    "                                                ))\n",
    "xgb.train_model()\n",
    "xgb.evaluate()"
   ]
  },
  {
   "cell_type": "code",
   "execution_count": 5,
   "metadata": {},
   "outputs": [
    {
     "name": "stdout",
     "output_type": "stream",
     "text": [
      "\u001b[32m---------------------- loading data  ----------------------\u001b[0m\n",
      "\u001b[31m---------------------- split = True ----------------------\u001b[0m\n",
      "{'test_size': 0.1, 'random_state': 5}\n",
      "\u001b[34m---------------------- splitting train/val  ----------------------\u001b[0m\n",
      "\u001b[34m---------------------- cleaning data  ----------------------\u001b[0m\n",
      "\u001b[34m---------------------- getting pipeline  ----------------------\u001b[0m\n",
      "\u001b[34m---------------------- getting estimator  ----------------------\u001b[0m\n",
      "\u001b[31m---------------------- XGBRegressor ----------------------\u001b[0m\n",
      "\u001b[32m---------------------- start training  ----------------------\u001b[0m\n",
      "Fitting 5 folds for each of 1 candidates, totalling 5 fits\n"
     ]
    },
    {
     "name": "stderr",
     "output_type": "stream",
     "text": [
      "[Parallel(n_jobs=1)]: Using backend SequentialBackend with 1 concurrent workers.\n",
      "[Parallel(n_jobs=1)]: Done   5 out of   5 | elapsed:   42.7s finished\n"
     ]
    },
    {
     "name": "stdout",
     "output_type": "stream",
     "text": [
      "\u001b[31m---------------------- best_params ----------------------\u001b[0m\n",
      "{'model__learning_rate': 0.1, 'model__max_depth': 4, 'model__min_child_weight': 2, 'model__n_estimators': 100}\n",
      "train time: 53\n",
      "\u001b[32m---------------------- evaluating  ----------------------\u001b[0m\n",
      "\u001b[31m---------------------- train_RMSE: 3.013  ----------------------\u001b[0m\n",
      "\u001b[31m----------------------  test_RMSE: 5.755  ----------------------\u001b[0m\n",
      "\u001b[32m---------------------- logging params and metrics  ----------------------\u001b[0m\n",
      "Wall time: 56.4 s\n"
     ]
    }
   ],
   "source": [
    "%%time\n",
    "xgb = Trainer(df, mlflow=True, estimator_params=dict(\n",
    "                                                    n_estimators=[100],\n",
    "                                                    max_depth=[4],\n",
    "                                                    min_child_weight=[2],\n",
    "                                                    learning_rate=[0.1]\n",
    "                                                ))\n",
    "xgb.train_model()\n",
    "xgb.evaluate()"
   ]
  },
  {
   "cell_type": "code",
   "execution_count": 6,
   "metadata": {},
   "outputs": [
    {
     "name": "stdout",
     "output_type": "stream",
     "text": [
      "\u001b[32m---------------------- loading data  ----------------------\u001b[0m\n",
      "\u001b[31m---------------------- split = True ----------------------\u001b[0m\n",
      "{'test_size': 0.1, 'random_state': 5}\n",
      "\u001b[34m---------------------- splitting train/val  ----------------------\u001b[0m\n",
      "\u001b[34m---------------------- cleaning data  ----------------------\u001b[0m\n",
      "\u001b[34m---------------------- getting pipeline  ----------------------\u001b[0m\n",
      "\u001b[34m---------------------- getting estimator  ----------------------\u001b[0m\n",
      "\u001b[31m---------------------- XGBRegressor ----------------------\u001b[0m\n",
      "\u001b[32m---------------------- start training  ----------------------\u001b[0m\n",
      "Fitting 5 folds for each of 1 candidates, totalling 5 fits\n"
     ]
    },
    {
     "name": "stderr",
     "output_type": "stream",
     "text": [
      "[Parallel(n_jobs=1)]: Using backend SequentialBackend with 1 concurrent workers.\n",
      "[Parallel(n_jobs=1)]: Done   5 out of   5 | elapsed:   53.0s finished\n"
     ]
    },
    {
     "name": "stdout",
     "output_type": "stream",
     "text": [
      "\u001b[31m---------------------- best_params ----------------------\u001b[0m\n",
      "{'model__learning_rate': 0.1, 'model__max_depth': 5, 'model__min_child_weight': 2, 'model__n_estimators': 100}\n",
      "train time: 66\n",
      "\u001b[32m---------------------- evaluating  ----------------------\u001b[0m\n",
      "\u001b[31m---------------------- train_RMSE: 2.806  ----------------------\u001b[0m\n",
      "\u001b[31m----------------------  test_RMSE: 5.65  ----------------------\u001b[0m\n",
      "\u001b[32m---------------------- logging params and metrics  ----------------------\u001b[0m\n",
      "Wall time: 1min 9s\n"
     ]
    }
   ],
   "source": [
    "%%time\n",
    "xgb = Trainer(df, mlflow=True, estimator_params=dict(\n",
    "                                                    n_estimators=[100],\n",
    "                                                    max_depth=[5],\n",
    "                                                    min_child_weight=[2],\n",
    "                                                    learning_rate=[0.1]\n",
    "                                                ))\n",
    "xgb.train_model()\n",
    "xgb.evaluate()"
   ]
  },
  {
   "cell_type": "code",
   "execution_count": 7,
   "metadata": {},
   "outputs": [
    {
     "name": "stdout",
     "output_type": "stream",
     "text": [
      "\u001b[32m---------------------- loading data  ----------------------\u001b[0m\n",
      "\u001b[31m---------------------- split = True ----------------------\u001b[0m\n",
      "{'test_size': 0.1, 'random_state': 5}\n",
      "\u001b[34m---------------------- splitting train/val  ----------------------\u001b[0m\n",
      "\u001b[34m---------------------- cleaning data  ----------------------\u001b[0m\n",
      "\u001b[34m---------------------- getting pipeline  ----------------------\u001b[0m\n",
      "\u001b[34m---------------------- getting estimator  ----------------------\u001b[0m\n",
      "\u001b[31m---------------------- XGBRegressor ----------------------\u001b[0m\n",
      "\u001b[32m---------------------- start training  ----------------------\u001b[0m\n",
      "Fitting 5 folds for each of 1 candidates, totalling 5 fits\n"
     ]
    },
    {
     "name": "stderr",
     "output_type": "stream",
     "text": [
      "[Parallel(n_jobs=1)]: Using backend SequentialBackend with 1 concurrent workers.\n",
      "[Parallel(n_jobs=1)]: Done   5 out of   5 | elapsed:  1.1min finished\n"
     ]
    },
    {
     "name": "stdout",
     "output_type": "stream",
     "text": [
      "\u001b[31m---------------------- best_params ----------------------\u001b[0m\n",
      "{'model__learning_rate': 0.1, 'model__max_depth': 6, 'model__min_child_weight': 2, 'model__n_estimators': 100}\n",
      "train time: 79\n",
      "\u001b[32m---------------------- evaluating  ----------------------\u001b[0m\n",
      "\u001b[31m---------------------- train_RMSE: 2.616  ----------------------\u001b[0m\n",
      "\u001b[31m----------------------  test_RMSE: 5.537  ----------------------\u001b[0m\n",
      "\u001b[32m---------------------- logging params and metrics  ----------------------\u001b[0m\n",
      "Wall time: 1min 23s\n"
     ]
    }
   ],
   "source": [
    "%%time\n",
    "xgb = Trainer(df, mlflow=True, estimator_params=dict(\n",
    "                                                    n_estimators=[100],\n",
    "                                                    max_depth=[6],\n",
    "                                                    min_child_weight=[2],\n",
    "                                                    learning_rate=[0.1]\n",
    "                                                ))\n",
    "xgb.train_model()\n",
    "xgb.evaluate()"
   ]
  },
  {
   "cell_type": "code",
   "execution_count": 8,
   "metadata": {},
   "outputs": [
    {
     "name": "stdout",
     "output_type": "stream",
     "text": [
      "\u001b[32m---------------------- loading data  ----------------------\u001b[0m\n",
      "\u001b[31m---------------------- split = True ----------------------\u001b[0m\n",
      "{'test_size': 0.1, 'random_state': 5}\n",
      "\u001b[34m---------------------- splitting train/val  ----------------------\u001b[0m\n",
      "\u001b[34m---------------------- cleaning data  ----------------------\u001b[0m\n",
      "\u001b[34m---------------------- getting pipeline  ----------------------\u001b[0m\n",
      "\u001b[34m---------------------- getting estimator  ----------------------\u001b[0m\n",
      "\u001b[31m---------------------- XGBRegressor ----------------------\u001b[0m\n",
      "\u001b[32m---------------------- start training  ----------------------\u001b[0m\n",
      "Fitting 5 folds for each of 1 candidates, totalling 5 fits\n"
     ]
    },
    {
     "name": "stderr",
     "output_type": "stream",
     "text": [
      "[Parallel(n_jobs=1)]: Using backend SequentialBackend with 1 concurrent workers.\n",
      "[Parallel(n_jobs=1)]: Done   5 out of   5 | elapsed:  1.3min finished\n"
     ]
    },
    {
     "name": "stdout",
     "output_type": "stream",
     "text": [
      "\u001b[31m---------------------- best_params ----------------------\u001b[0m\n",
      "{'model__learning_rate': 0.1, 'model__max_depth': 7, 'model__min_child_weight': 2, 'model__n_estimators': 100}\n",
      "train time: 93\n",
      "\u001b[32m---------------------- evaluating  ----------------------\u001b[0m\n",
      "\u001b[31m---------------------- train_RMSE: 2.402  ----------------------\u001b[0m\n",
      "\u001b[31m----------------------  test_RMSE: 5.573  ----------------------\u001b[0m\n",
      "\u001b[32m---------------------- logging params and metrics  ----------------------\u001b[0m\n",
      "Wall time: 1min 36s\n"
     ]
    }
   ],
   "source": [
    "%%time\n",
    "xgb = Trainer(df, mlflow=True, estimator_params=dict(\n",
    "                                                    n_estimators=[100],\n",
    "                                                    max_depth=[7],\n",
    "                                                    min_child_weight=[2],\n",
    "                                                    learning_rate=[0.1]\n",
    "                                                ))\n",
    "xgb.train_model()\n",
    "xgb.evaluate()"
   ]
  },
  {
   "cell_type": "markdown",
   "metadata": {},
   "source": [
    "## min_child_weight"
   ]
  },
  {
   "cell_type": "code",
   "execution_count": 19,
   "metadata": {},
   "outputs": [
    {
     "name": "stdout",
     "output_type": "stream",
     "text": [
      "\u001b[32m---------------------- loading data  ----------------------\u001b[0m\n",
      "\u001b[31m---------------------- split = True ----------------------\u001b[0m\n",
      "{'test_size': 0.1, 'random_state': 5}\n",
      "\u001b[34m---------------------- splitting train/val  ----------------------\u001b[0m\n",
      "\u001b[34m---------------------- cleaning data  ----------------------\u001b[0m\n",
      "\u001b[34m---------------------- getting pipeline  ----------------------\u001b[0m\n",
      "\u001b[34m---------------------- getting estimator  ----------------------\u001b[0m\n",
      "\u001b[31m---------------------- XGBRegressor ----------------------\u001b[0m\n",
      "\u001b[32m---------------------- start training  ----------------------\u001b[0m\n",
      "Fitting 5 folds for each of 1 candidates, totalling 5 fits\n"
     ]
    },
    {
     "name": "stderr",
     "output_type": "stream",
     "text": [
      "[Parallel(n_jobs=1)]: Using backend SequentialBackend with 1 concurrent workers.\n",
      "[Parallel(n_jobs=1)]: Done   5 out of   5 | elapsed:  1.3min finished\n"
     ]
    },
    {
     "name": "stdout",
     "output_type": "stream",
     "text": [
      "\u001b[31m---------------------- best_params ----------------------\u001b[0m\n",
      "{'model__learning_rate': 0.1, 'model__max_depth': 7, 'model__min_child_weight': 1, 'model__n_estimators': 100}\n",
      "train time: 95\n",
      "\u001b[32m---------------------- evaluating  ----------------------\u001b[0m\n",
      "\u001b[31m---------------------- train_RMSE: 2.374  ----------------------\u001b[0m\n",
      "\u001b[31m----------------------  test_RMSE: 5.431  ----------------------\u001b[0m\n",
      "\u001b[32m---------------------- logging params and metrics  ----------------------\u001b[0m\n",
      "Wall time: 1min 38s\n"
     ]
    }
   ],
   "source": [
    "%%time\n",
    "xgb = Trainer(df, mlflow=True, estimator_params=dict(\n",
    "                                                    n_estimators=[100],\n",
    "                                                    max_depth=[7],\n",
    "                                                    min_child_weight=[1],\n",
    "                                                    learning_rate=[0.1]\n",
    "                                                ))\n",
    "xgb.train_model()\n",
    "xgb.evaluate()"
   ]
  },
  {
   "cell_type": "code",
   "execution_count": 20,
   "metadata": {},
   "outputs": [
    {
     "name": "stdout",
     "output_type": "stream",
     "text": [
      "\u001b[32m---------------------- loading data  ----------------------\u001b[0m\n",
      "\u001b[31m---------------------- split = True ----------------------\u001b[0m\n",
      "{'test_size': 0.1, 'random_state': 5}\n",
      "\u001b[34m---------------------- splitting train/val  ----------------------\u001b[0m\n",
      "\u001b[34m---------------------- cleaning data  ----------------------\u001b[0m\n",
      "\u001b[34m---------------------- getting pipeline  ----------------------\u001b[0m\n",
      "\u001b[34m---------------------- getting estimator  ----------------------\u001b[0m\n",
      "\u001b[31m---------------------- XGBRegressor ----------------------\u001b[0m\n",
      "\u001b[32m---------------------- start training  ----------------------\u001b[0m\n",
      "Fitting 5 folds for each of 1 candidates, totalling 5 fits\n"
     ]
    },
    {
     "name": "stderr",
     "output_type": "stream",
     "text": [
      "[Parallel(n_jobs=1)]: Using backend SequentialBackend with 1 concurrent workers.\n",
      "[Parallel(n_jobs=1)]: Done   5 out of   5 | elapsed:  1.2min finished\n"
     ]
    },
    {
     "name": "stdout",
     "output_type": "stream",
     "text": [
      "\u001b[31m---------------------- best_params ----------------------\u001b[0m\n",
      "{'model__learning_rate': 0.1, 'model__max_depth': 7, 'model__min_child_weight': 2, 'model__n_estimators': 100}\n",
      "train time: 93\n",
      "\u001b[32m---------------------- evaluating  ----------------------\u001b[0m\n",
      "\u001b[31m---------------------- train_RMSE: 2.402  ----------------------\u001b[0m\n",
      "\u001b[31m----------------------  test_RMSE: 5.573  ----------------------\u001b[0m\n",
      "\u001b[32m---------------------- logging params and metrics  ----------------------\u001b[0m\n",
      "Wall time: 1min 37s\n"
     ]
    }
   ],
   "source": [
    "%%time\n",
    "xgb = Trainer(df, mlflow=True, estimator_params=dict(\n",
    "                                                    n_estimators=[100],\n",
    "                                                    max_depth=[7],\n",
    "                                                    min_child_weight=[2],\n",
    "                                                    learning_rate=[0.1]\n",
    "                                                ))\n",
    "xgb.train_model()\n",
    "xgb.evaluate()"
   ]
  },
  {
   "cell_type": "code",
   "execution_count": 21,
   "metadata": {},
   "outputs": [
    {
     "name": "stdout",
     "output_type": "stream",
     "text": [
      "\u001b[32m---------------------- loading data  ----------------------\u001b[0m\n",
      "\u001b[31m---------------------- split = True ----------------------\u001b[0m\n",
      "{'test_size': 0.1, 'random_state': 5}\n",
      "\u001b[34m---------------------- splitting train/val  ----------------------\u001b[0m\n",
      "\u001b[34m---------------------- cleaning data  ----------------------\u001b[0m\n",
      "\u001b[34m---------------------- getting pipeline  ----------------------\u001b[0m\n",
      "\u001b[34m---------------------- getting estimator  ----------------------\u001b[0m\n",
      "\u001b[31m---------------------- XGBRegressor ----------------------\u001b[0m\n",
      "\u001b[32m---------------------- start training  ----------------------\u001b[0m\n",
      "Fitting 5 folds for each of 1 candidates, totalling 5 fits\n"
     ]
    },
    {
     "name": "stderr",
     "output_type": "stream",
     "text": [
      "[Parallel(n_jobs=1)]: Using backend SequentialBackend with 1 concurrent workers.\n",
      "[Parallel(n_jobs=1)]: Done   5 out of   5 | elapsed:  1.3min finished\n"
     ]
    },
    {
     "name": "stdout",
     "output_type": "stream",
     "text": [
      "\u001b[31m---------------------- best_params ----------------------\u001b[0m\n",
      "{'model__learning_rate': 0.1, 'model__max_depth': 7, 'model__min_child_weight': 3, 'model__n_estimators': 100}\n",
      "train time: 94\n",
      "\u001b[32m---------------------- evaluating  ----------------------\u001b[0m\n",
      "\u001b[31m---------------------- train_RMSE: 2.425  ----------------------\u001b[0m\n",
      "\u001b[31m----------------------  test_RMSE: 5.252  ----------------------\u001b[0m\n",
      "\u001b[32m---------------------- logging params and metrics  ----------------------\u001b[0m\n",
      "Wall time: 1min 37s\n"
     ]
    }
   ],
   "source": [
    "%%time\n",
    "xgb = Trainer(df, mlflow=True, estimator_params=dict(\n",
    "                                                    n_estimators=[100],\n",
    "                                                    max_depth=[7],\n",
    "                                                    min_child_weight=[3],\n",
    "                                                    learning_rate=[0.1]\n",
    "                                                ))\n",
    "xgb.train_model()\n",
    "xgb.evaluate()"
   ]
  },
  {
   "cell_type": "code",
   "execution_count": null,
   "metadata": {},
   "outputs": [],
   "source": []
  },
  {
   "cell_type": "markdown",
   "metadata": {},
   "source": [
    "## learning_rate"
   ]
  },
  {
   "cell_type": "code",
   "execution_count": 29,
   "metadata": {},
   "outputs": [
    {
     "name": "stdout",
     "output_type": "stream",
     "text": [
      "\u001b[32m---------------------- loading data  ----------------------\u001b[0m\n",
      "\u001b[31m---------------------- split = True ----------------------\u001b[0m\n",
      "{'test_size': 0.1, 'random_state': 5}\n",
      "\u001b[34m---------------------- splitting train/val  ----------------------\u001b[0m\n",
      "\u001b[34m---------------------- cleaning data  ----------------------\u001b[0m\n",
      "\u001b[34m---------------------- getting pipeline  ----------------------\u001b[0m\n",
      "\u001b[34m---------------------- getting estimator  ----------------------\u001b[0m\n",
      "\u001b[31m---------------------- XGBRegressor ----------------------\u001b[0m\n",
      "\u001b[32m---------------------- start training  ----------------------\u001b[0m\n",
      "Fitting 5 folds for each of 1 candidates, totalling 5 fits\n"
     ]
    },
    {
     "name": "stderr",
     "output_type": "stream",
     "text": [
      "[Parallel(n_jobs=1)]: Using backend SequentialBackend with 1 concurrent workers.\n",
      "[Parallel(n_jobs=1)]: Done   5 out of   5 | elapsed:  1.3min finished\n"
     ]
    },
    {
     "name": "stdout",
     "output_type": "stream",
     "text": [
      "\u001b[31m---------------------- best_params ----------------------\u001b[0m\n",
      "{'model__learning_rate': 0.08, 'model__max_depth': 7, 'model__min_child_weight': 3, 'model__n_estimators': 100}\n",
      "train time: 95\n",
      "\u001b[32m---------------------- evaluating  ----------------------\u001b[0m\n",
      "\u001b[31m---------------------- train_RMSE: 2.518  ----------------------\u001b[0m\n",
      "\u001b[31m----------------------  test_RMSE: 5.368  ----------------------\u001b[0m\n",
      "\u001b[32m---------------------- logging params and metrics  ----------------------\u001b[0m\n",
      "Wall time: 1min 40s\n"
     ]
    }
   ],
   "source": [
    "%%time\n",
    "xgb = Trainer(df, mlflow=True, estimator_params=dict(\n",
    "                                                    n_estimators=[100],\n",
    "                                                    max_depth=[7],\n",
    "                                                    min_child_weight=[3],\n",
    "                                                    learning_rate=[0.08]\n",
    "                                                ))\n",
    "xgb.train_model()\n",
    "xgb.evaluate()"
   ]
  },
  {
   "cell_type": "code",
   "execution_count": 30,
   "metadata": {},
   "outputs": [
    {
     "name": "stdout",
     "output_type": "stream",
     "text": [
      "\u001b[32m---------------------- loading data  ----------------------\u001b[0m\n",
      "\u001b[31m---------------------- split = True ----------------------\u001b[0m\n",
      "{'test_size': 0.1, 'random_state': 5}\n",
      "\u001b[34m---------------------- splitting train/val  ----------------------\u001b[0m\n",
      "\u001b[34m---------------------- cleaning data  ----------------------\u001b[0m\n",
      "\u001b[34m---------------------- getting pipeline  ----------------------\u001b[0m\n",
      "\u001b[34m---------------------- getting estimator  ----------------------\u001b[0m\n",
      "\u001b[31m---------------------- XGBRegressor ----------------------\u001b[0m\n",
      "\u001b[32m---------------------- start training  ----------------------\u001b[0m\n",
      "Fitting 5 folds for each of 1 candidates, totalling 5 fits\n"
     ]
    },
    {
     "name": "stderr",
     "output_type": "stream",
     "text": [
      "[Parallel(n_jobs=1)]: Using backend SequentialBackend with 1 concurrent workers.\n",
      "[Parallel(n_jobs=1)]: Done   5 out of   5 | elapsed:  1.2min finished\n"
     ]
    },
    {
     "name": "stdout",
     "output_type": "stream",
     "text": [
      "\u001b[31m---------------------- best_params ----------------------\u001b[0m\n",
      "{'model__learning_rate': 0.1, 'model__max_depth': 7, 'model__min_child_weight': 3, 'model__n_estimators': 100}\n",
      "train time: 93\n",
      "\u001b[32m---------------------- evaluating  ----------------------\u001b[0m\n",
      "\u001b[31m---------------------- train_RMSE: 2.425  ----------------------\u001b[0m\n",
      "\u001b[31m----------------------  test_RMSE: 5.252  ----------------------\u001b[0m\n",
      "\u001b[32m---------------------- logging params and metrics  ----------------------\u001b[0m\n",
      "Wall time: 1min 37s\n"
     ]
    }
   ],
   "source": [
    "%%time\n",
    "xgb = Trainer(df, mlflow=True, estimator_params=dict(\n",
    "                                                    n_estimators=[100],\n",
    "                                                    max_depth=[7],\n",
    "                                                    min_child_weight=[3],\n",
    "                                                    learning_rate=[0.1]\n",
    "                                                ))\n",
    "xgb.train_model()\n",
    "xgb.evaluate()"
   ]
  },
  {
   "cell_type": "code",
   "execution_count": 31,
   "metadata": {},
   "outputs": [
    {
     "name": "stdout",
     "output_type": "stream",
     "text": [
      "\u001b[32m---------------------- loading data  ----------------------\u001b[0m\n",
      "\u001b[31m---------------------- split = True ----------------------\u001b[0m\n",
      "{'test_size': 0.1, 'random_state': 5}\n",
      "\u001b[34m---------------------- splitting train/val  ----------------------\u001b[0m\n",
      "\u001b[34m---------------------- cleaning data  ----------------------\u001b[0m\n",
      "\u001b[34m---------------------- getting pipeline  ----------------------\u001b[0m\n",
      "\u001b[34m---------------------- getting estimator  ----------------------\u001b[0m\n",
      "\u001b[31m---------------------- XGBRegressor ----------------------\u001b[0m\n",
      "\u001b[32m---------------------- start training  ----------------------\u001b[0m\n",
      "Fitting 5 folds for each of 1 candidates, totalling 5 fits\n"
     ]
    },
    {
     "name": "stderr",
     "output_type": "stream",
     "text": [
      "[Parallel(n_jobs=1)]: Using backend SequentialBackend with 1 concurrent workers.\n",
      "[Parallel(n_jobs=1)]: Done   5 out of   5 | elapsed:  1.2min finished\n"
     ]
    },
    {
     "name": "stdout",
     "output_type": "stream",
     "text": [
      "\u001b[31m---------------------- best_params ----------------------\u001b[0m\n",
      "{'model__learning_rate': 0.12, 'model__max_depth': 7, 'model__min_child_weight': 3, 'model__n_estimators': 100}\n",
      "train time: 91\n",
      "\u001b[32m---------------------- evaluating  ----------------------\u001b[0m\n",
      "\u001b[31m---------------------- train_RMSE: 2.404  ----------------------\u001b[0m\n",
      "\u001b[31m----------------------  test_RMSE: 5.326  ----------------------\u001b[0m\n",
      "\u001b[32m---------------------- logging params and metrics  ----------------------\u001b[0m\n",
      "Wall time: 1min 35s\n"
     ]
    }
   ],
   "source": [
    "%%time\n",
    "xgb = Trainer(df, mlflow=True, estimator_params=dict(\n",
    "                                                    n_estimators=[100],\n",
    "                                                    max_depth=[7],\n",
    "                                                    min_child_weight=[3],\n",
    "                                                    learning_rate=[0.12]\n",
    "                                                ))\n",
    "xgb.train_model()\n",
    "xgb.evaluate()"
   ]
  },
  {
   "cell_type": "markdown",
   "metadata": {},
   "source": [
    "## GridSearch"
   ]
  },
  {
   "cell_type": "code",
   "execution_count": 41,
   "metadata": {},
   "outputs": [
    {
     "name": "stdout",
     "output_type": "stream",
     "text": [
      "\u001b[32m---------------------- loading data  ----------------------\u001b[0m\n",
      "\u001b[31m---------------------- split = True ----------------------\u001b[0m\n",
      "{'test_size': 0.1, 'random_state': 5}\n",
      "\u001b[34m---------------------- splitting train/val  ----------------------\u001b[0m\n",
      "\u001b[34m---------------------- cleaning data  ----------------------\u001b[0m\n",
      "\u001b[34m---------------------- getting pipeline  ----------------------\u001b[0m\n",
      "\u001b[34m---------------------- getting estimator  ----------------------\u001b[0m\n",
      "\u001b[31m---------------------- XGBRegressor ----------------------\u001b[0m\n",
      "\u001b[32m---------------------- start training  ----------------------\u001b[0m\n",
      "Fitting 5 folds for each of 27 candidates, totalling 135 fits\n"
     ]
    },
    {
     "name": "stderr",
     "output_type": "stream",
     "text": [
      "[Parallel(n_jobs=1)]: Using backend SequentialBackend with 1 concurrent workers.\n",
      "[Parallel(n_jobs=1)]: Done 135 out of 135 | elapsed: 23.1min finished\n"
     ]
    },
    {
     "name": "stdout",
     "output_type": "stream",
     "text": [
      "Grid Scores:\n",
      "rmse = 3.326 (+/-0.156) for {'model__learning_rate': 0.09, 'model__max_depth': 4, 'model__min_child_weight': 2, 'model__n_estimators': 100}\n",
      "rmse = 3.337 (+/-0.161) for {'model__learning_rate': 0.09, 'model__max_depth': 4, 'model__min_child_weight': 3, 'model__n_estimators': 100}\n",
      "rmse = 3.336 (+/-0.155) for {'model__learning_rate': 0.09, 'model__max_depth': 4, 'model__min_child_weight': 4, 'model__n_estimators': 100}\n",
      "rmse = 3.282 (+/-0.151) for {'model__learning_rate': 0.09, 'model__max_depth': 5, 'model__min_child_weight': 2, 'model__n_estimators': 100}\n",
      "rmse = 3.285 (+/-0.157) for {'model__learning_rate': 0.09, 'model__max_depth': 5, 'model__min_child_weight': 3, 'model__n_estimators': 100}\n",
      "rmse = 3.278 (+/-0.142) for {'model__learning_rate': 0.09, 'model__max_depth': 5, 'model__min_child_weight': 4, 'model__n_estimators': 100}\n",
      "rmse = 3.259 (+/-0.158) for {'model__learning_rate': 0.09, 'model__max_depth': 6, 'model__min_child_weight': 2, 'model__n_estimators': 100}\n",
      "rmse = 3.247 (+/-0.148) for {'model__learning_rate': 0.09, 'model__max_depth': 6, 'model__min_child_weight': 3, 'model__n_estimators': 100}\n",
      "rmse = 3.236 (+/-0.153) for {'model__learning_rate': 0.09, 'model__max_depth': 6, 'model__min_child_weight': 4, 'model__n_estimators': 100}\n",
      "rmse = 3.322 (+/-0.143) for {'model__learning_rate': 0.1, 'model__max_depth': 4, 'model__min_child_weight': 2, 'model__n_estimators': 100}\n",
      "rmse = 3.327 (+/-0.149) for {'model__learning_rate': 0.1, 'model__max_depth': 4, 'model__min_child_weight': 3, 'model__n_estimators': 100}\n",
      "rmse = 3.32 (+/-0.155) for {'model__learning_rate': 0.1, 'model__max_depth': 4, 'model__min_child_weight': 4, 'model__n_estimators': 100}\n",
      "rmse = 3.281 (+/-0.152) for {'model__learning_rate': 0.1, 'model__max_depth': 5, 'model__min_child_weight': 2, 'model__n_estimators': 100}\n",
      "rmse = 3.277 (+/-0.149) for {'model__learning_rate': 0.1, 'model__max_depth': 5, 'model__min_child_weight': 3, 'model__n_estimators': 100}\n",
      "rmse = 3.267 (+/-0.137) for {'model__learning_rate': 0.1, 'model__max_depth': 5, 'model__min_child_weight': 4, 'model__n_estimators': 100}\n",
      "rmse = 3.254 (+/-0.145) for {'model__learning_rate': 0.1, 'model__max_depth': 6, 'model__min_child_weight': 2, 'model__n_estimators': 100}\n",
      "rmse = 3.242 (+/-0.144) for {'model__learning_rate': 0.1, 'model__max_depth': 6, 'model__min_child_weight': 3, 'model__n_estimators': 100}\n",
      "rmse = 3.231 (+/-0.151) for {'model__learning_rate': 0.1, 'model__max_depth': 6, 'model__min_child_weight': 4, 'model__n_estimators': 100}\n",
      "rmse = 3.315 (+/-0.149) for {'model__learning_rate': 0.11, 'model__max_depth': 4, 'model__min_child_weight': 2, 'model__n_estimators': 100}\n",
      "rmse = 3.316 (+/-0.151) for {'model__learning_rate': 0.11, 'model__max_depth': 4, 'model__min_child_weight': 3, 'model__n_estimators': 100}\n",
      "rmse = 3.306 (+/-0.154) for {'model__learning_rate': 0.11, 'model__max_depth': 4, 'model__min_child_weight': 4, 'model__n_estimators': 100}\n",
      "rmse = 3.27 (+/-0.148) for {'model__learning_rate': 0.11, 'model__max_depth': 5, 'model__min_child_weight': 2, 'model__n_estimators': 100}\n",
      "rmse = 3.259 (+/-0.143) for {'model__learning_rate': 0.11, 'model__max_depth': 5, 'model__min_child_weight': 3, 'model__n_estimators': 100}\n",
      "rmse = 3.252 (+/-0.141) for {'model__learning_rate': 0.11, 'model__max_depth': 5, 'model__min_child_weight': 4, 'model__n_estimators': 100}\n",
      "rmse = 3.241 (+/-0.164) for {'model__learning_rate': 0.11, 'model__max_depth': 6, 'model__min_child_weight': 2, 'model__n_estimators': 100}\n",
      "rmse = 3.247 (+/-0.161) for {'model__learning_rate': 0.11, 'model__max_depth': 6, 'model__min_child_weight': 3, 'model__n_estimators': 100}\n",
      "rmse = 3.229 (+/-0.154) for {'model__learning_rate': 0.11, 'model__max_depth': 6, 'model__min_child_weight': 4, 'model__n_estimators': 100}\n",
      "\u001b[31m---------------------- best_params ----------------------\u001b[0m\n",
      "{'model__learning_rate': 0.11, 'model__max_depth': 6, 'model__min_child_weight': 4, 'model__n_estimators': 100}\n",
      "train time: 1403\n",
      "\u001b[32m---------------------- evaluating  ----------------------\u001b[0m\n",
      "\u001b[31m---------------------- train_RMSE: 2.638  ----------------------\u001b[0m\n",
      "\u001b[31m----------------------  test_RMSE: 5.38  ----------------------\u001b[0m\n",
      "\u001b[32m---------------------- logging params and metrics  ----------------------\u001b[0m\n",
      "Wall time: 23min 56s\n"
     ]
    }
   ],
   "source": [
    "%%time\n",
    "xgb = Trainer(df, mlflow=True, run_name='run1', estimator_params=dict(\n",
    "                                                    n_estimators=[100],\n",
    "                                                    max_depth=[4, 5, 6],\n",
    "                                                    min_child_weight=[2, 3, 4],\n",
    "                                                    learning_rate=[0.09, 0.1, 0.11]\n",
    "                                                ))\n",
    "xgb.train_model()\n",
    "xgb.evaluate()"
   ]
  },
  {
   "cell_type": "code",
   "execution_count": 42,
   "metadata": {},
   "outputs": [
    {
     "name": "stdout",
     "output_type": "stream",
     "text": [
      "\u001b[32m---------------------- loading data  ----------------------\u001b[0m\n",
      "\u001b[31m---------------------- split = True ----------------------\u001b[0m\n",
      "{'test_size': 0.1, 'random_state': 5}\n",
      "\u001b[34m---------------------- splitting train/val  ----------------------\u001b[0m\n",
      "\u001b[34m---------------------- cleaning data  ----------------------\u001b[0m\n",
      "\u001b[34m---------------------- getting pipeline  ----------------------\u001b[0m\n",
      "\u001b[34m---------------------- getting estimator  ----------------------\u001b[0m\n",
      "\u001b[31m---------------------- XGBRegressor ----------------------\u001b[0m\n",
      "\u001b[32m---------------------- start training  ----------------------\u001b[0m\n",
      "Fitting 5 folds for each of 27 candidates, totalling 135 fits\n"
     ]
    },
    {
     "name": "stderr",
     "output_type": "stream",
     "text": [
      "[Parallel(n_jobs=1)]: Using backend SequentialBackend with 1 concurrent workers.\n",
      "[Parallel(n_jobs=1)]: Done 135 out of 135 | elapsed: 51.5min finished\n"
     ]
    },
    {
     "name": "stdout",
     "output_type": "stream",
     "text": [
      "Grid Scores:\n",
      "rmse = 3.255 (+/-0.152) for {'model__learning_rate': 0.08, 'model__max_depth': 5, 'model__min_child_weight': 2, 'model__n_estimators': 200}\n",
      "rmse = 3.246 (+/-0.155) for {'model__learning_rate': 0.08, 'model__max_depth': 5, 'model__min_child_weight': 3, 'model__n_estimators': 200}\n",
      "rmse = 3.232 (+/-0.142) for {'model__learning_rate': 0.08, 'model__max_depth': 5, 'model__min_child_weight': 4, 'model__n_estimators': 200}\n",
      "rmse = 3.231 (+/-0.151) for {'model__learning_rate': 0.08, 'model__max_depth': 6, 'model__min_child_weight': 2, 'model__n_estimators': 200}\n",
      "rmse = 3.226 (+/-0.169) for {'model__learning_rate': 0.08, 'model__max_depth': 6, 'model__min_child_weight': 3, 'model__n_estimators': 200}\n",
      "rmse = 3.217 (+/-0.143) for {'model__learning_rate': 0.08, 'model__max_depth': 6, 'model__min_child_weight': 4, 'model__n_estimators': 200}\n",
      "rmse = 3.218 (+/-0.141) for {'model__learning_rate': 0.08, 'model__max_depth': 7, 'model__min_child_weight': 2, 'model__n_estimators': 200}\n",
      "rmse = 3.221 (+/-0.149) for {'model__learning_rate': 0.08, 'model__max_depth': 7, 'model__min_child_weight': 3, 'model__n_estimators': 200}\n",
      "rmse = 3.202 (+/-0.162) for {'model__learning_rate': 0.08, 'model__max_depth': 7, 'model__min_child_weight': 4, 'model__n_estimators': 200}\n",
      "rmse = 3.239 (+/-0.156) for {'model__learning_rate': 0.1, 'model__max_depth': 5, 'model__min_child_weight': 2, 'model__n_estimators': 200}\n",
      "rmse = 3.241 (+/-0.152) for {'model__learning_rate': 0.1, 'model__max_depth': 5, 'model__min_child_weight': 3, 'model__n_estimators': 200}\n",
      "rmse = 3.224 (+/-0.145) for {'model__learning_rate': 0.1, 'model__max_depth': 5, 'model__min_child_weight': 4, 'model__n_estimators': 200}\n",
      "rmse = 3.226 (+/-0.148) for {'model__learning_rate': 0.1, 'model__max_depth': 6, 'model__min_child_weight': 2, 'model__n_estimators': 200}\n",
      "rmse = 3.213 (+/-0.15) for {'model__learning_rate': 0.1, 'model__max_depth': 6, 'model__min_child_weight': 3, 'model__n_estimators': 200}\n",
      "rmse = 3.203 (+/-0.158) for {'model__learning_rate': 0.1, 'model__max_depth': 6, 'model__min_child_weight': 4, 'model__n_estimators': 200}\n",
      "rmse = 3.218 (+/-0.148) for {'model__learning_rate': 0.1, 'model__max_depth': 7, 'model__min_child_weight': 2, 'model__n_estimators': 200}\n",
      "rmse = 3.223 (+/-0.161) for {'model__learning_rate': 0.1, 'model__max_depth': 7, 'model__min_child_weight': 3, 'model__n_estimators': 200}\n",
      "rmse = 3.202 (+/-0.139) for {'model__learning_rate': 0.1, 'model__max_depth': 7, 'model__min_child_weight': 4, 'model__n_estimators': 200}\n",
      "rmse = 3.243 (+/-0.171) for {'model__learning_rate': 0.12, 'model__max_depth': 5, 'model__min_child_weight': 2, 'model__n_estimators': 200}\n",
      "rmse = 3.227 (+/-0.164) for {'model__learning_rate': 0.12, 'model__max_depth': 5, 'model__min_child_weight': 3, 'model__n_estimators': 200}\n",
      "rmse = 3.229 (+/-0.159) for {'model__learning_rate': 0.12, 'model__max_depth': 5, 'model__min_child_weight': 4, 'model__n_estimators': 200}\n",
      "rmse = 3.214 (+/-0.158) for {'model__learning_rate': 0.12, 'model__max_depth': 6, 'model__min_child_weight': 2, 'model__n_estimators': 200}\n",
      "rmse = 3.222 (+/-0.154) for {'model__learning_rate': 0.12, 'model__max_depth': 6, 'model__min_child_weight': 3, 'model__n_estimators': 200}\n",
      "rmse = 3.219 (+/-0.159) for {'model__learning_rate': 0.12, 'model__max_depth': 6, 'model__min_child_weight': 4, 'model__n_estimators': 200}\n",
      "rmse = 3.229 (+/-0.149) for {'model__learning_rate': 0.12, 'model__max_depth': 7, 'model__min_child_weight': 2, 'model__n_estimators': 200}\n",
      "rmse = 3.213 (+/-0.165) for {'model__learning_rate': 0.12, 'model__max_depth': 7, 'model__min_child_weight': 3, 'model__n_estimators': 200}\n",
      "rmse = 3.206 (+/-0.167) for {'model__learning_rate': 0.12, 'model__max_depth': 7, 'model__min_child_weight': 4, 'model__n_estimators': 200}\n",
      "\u001b[31m---------------------- best_params ----------------------\u001b[0m\n",
      "{'model__learning_rate': 0.08, 'model__max_depth': 7, 'model__min_child_weight': 4, 'model__n_estimators': 200}\n",
      "train time: 3124\n",
      "\u001b[32m---------------------- evaluating  ----------------------\u001b[0m\n",
      "\u001b[31m---------------------- train_RMSE: 2.346  ----------------------\u001b[0m\n",
      "\u001b[31m----------------------  test_RMSE: 5.301  ----------------------\u001b[0m\n",
      "\u001b[32m---------------------- logging params and metrics  ----------------------\u001b[0m\n",
      "Wall time: 52min 37s\n"
     ]
    }
   ],
   "source": [
    "%%time\n",
    "xgb = Trainer(df, mlflow=True, run_name='run2', estimator_params=dict(\n",
    "                                                    n_estimators=[200], \n",
    "                                                    max_depth=[5, 6, 7],\n",
    "                                                    min_child_weight=[2, 3, 4],\n",
    "                                                    learning_rate=[0.08, 0.1, 0.12]\n",
    "                                                ))\n",
    "xgb.train_model()\n",
    "xgb.evaluate()"
   ]
  },
  {
   "cell_type": "code",
   "execution_count": null,
   "metadata": {},
   "outputs": [
    {
     "name": "stdout",
     "output_type": "stream",
     "text": [
      "\u001b[32m---------------------- loading data  ----------------------\u001b[0m\n",
      "\u001b[31m---------------------- split = True ----------------------\u001b[0m\n",
      "{'test_size': 0.1, 'random_state': 5}\n",
      "\u001b[34m---------------------- splitting train/val  ----------------------\u001b[0m\n",
      "\u001b[34m---------------------- cleaning data  ----------------------\u001b[0m\n",
      "\u001b[34m---------------------- getting pipeline  ----------------------\u001b[0m\n",
      "\u001b[34m---------------------- getting estimator  ----------------------\u001b[0m\n",
      "\u001b[31m---------------------- XGBRegressor ----------------------\u001b[0m\n",
      "\u001b[32m---------------------- start training  ----------------------\u001b[0m\n",
      "Fitting 5 folds for each of 27 candidates, totalling 135 fits\n"
     ]
    },
    {
     "name": "stderr",
     "output_type": "stream",
     "text": [
      "[Parallel(n_jobs=1)]: Using backend SequentialBackend with 1 concurrent workers.\n"
     ]
    }
   ],
   "source": [
    "%%time\n",
    "df = get_data(n=1000000)\n",
    "xgb = Trainer(df, mlflow=True, run_name='run3', estimator_params=dict(\n",
    "                                                    n_estimators=[100], \n",
    "                                                    max_depth=[5, 7, 9],\n",
    "                                                    min_child_weight=[4, 5, 6],\n",
    "                                                    learning_rate=[0.08, 0.1, 0.12]\n",
    "                                                ))\n",
    "xgb.train_model()\n",
    "xgb.evaluate()"
   ]
  },
  {
   "cell_type": "code",
   "execution_count": null,
   "metadata": {},
   "outputs": [],
   "source": []
  }
 ],
 "metadata": {
  "kernelspec": {
   "display_name": "Python 3",
   "language": "python",
   "name": "python3"
  },
  "language_info": {
   "codemirror_mode": {
    "name": "ipython",
    "version": 3
   },
   "file_extension": ".py",
   "mimetype": "text/x-python",
   "name": "python",
   "nbconvert_exporter": "python",
   "pygments_lexer": "ipython3",
   "version": "3.7.7"
  },
  "toc": {
   "base_numbering": 1,
   "nav_menu": {
    "height": "140px",
    "width": "164px"
   },
   "number_sections": true,
   "sideBar": true,
   "skip_h1_title": false,
   "title_cell": "Table of Contents",
   "title_sidebar": "Contents",
   "toc_cell": false,
   "toc_position": {},
   "toc_section_display": true,
   "toc_window_display": false
  }
 },
 "nbformat": 4,
 "nbformat_minor": 4
}

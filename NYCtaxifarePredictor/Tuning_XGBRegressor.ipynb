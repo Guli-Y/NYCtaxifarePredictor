{
 "cells": [
  {
   "cell_type": "code",
   "execution_count": 1,
   "metadata": {},
   "outputs": [],
   "source": [
    "%load_ext autoreload\n",
    "%autoreload 2"
   ]
  },
  {
   "cell_type": "code",
   "execution_count": 19,
   "metadata": {},
   "outputs": [],
   "source": [
    "from NYCtaxifarePredictor.trainer import Trainer\n",
    "from NYCtaxifarePredictor.data import get_data\n",
    "from scipy import stats"
   ]
  },
  {
   "cell_type": "code",
   "execution_count": 3,
   "metadata": {},
   "outputs": [],
   "source": [
    "df = get_data(n=100000)"
   ]
  },
  {
   "cell_type": "markdown",
   "metadata": {},
   "source": [
    "## max_depth"
   ]
  },
  {
   "cell_type": "code",
   "execution_count": 28,
   "metadata": {},
   "outputs": [
    {
     "name": "stdout",
     "output_type": "stream",
     "text": [
      "\u001b[32m---------------------- loading data  ----------------------\u001b[0m\n",
      "\u001b[31m---------------------- split = True ----------------------\u001b[0m\n",
      "{'test_size': 0.1, 'random_state': 5}\n",
      "\u001b[34m---------------------- splitting train/val  ----------------------\u001b[0m\n",
      "\u001b[34m---------------------- cleaning data  ----------------------\u001b[0m\n",
      "\u001b[34m---------------------- getting pipeline  ----------------------\u001b[0m\n",
      "\u001b[34m---------------------- getting estimator  ----------------------\u001b[0m\n",
      "\u001b[31m---------------------- XGBRegressor ----------------------\u001b[0m\n",
      "\u001b[32m---------------------- start training  ----------------------\u001b[0m\n",
      "Fitting 5 folds for each of 1 candidates, totalling 5 fits\n"
     ]
    },
    {
     "name": "stderr",
     "output_type": "stream",
     "text": [
      "[Parallel(n_jobs=1)]: Using backend SequentialBackend with 1 concurrent workers.\n",
      "[Parallel(n_jobs=1)]: Done   5 out of   5 | elapsed:  8.8min finished\n"
     ]
    },
    {
     "name": "stdout",
     "output_type": "stream",
     "text": [
      "\u001b[31m---------------------- best_params ----------------------\u001b[0m\n",
      "{'model__learning_rate': 0.1, 'model__max_depth': 4, 'model__min_child_weight': 2, 'model__n_estimators': 100}\n",
      "train time: 659\n",
      "\u001b[32m---------------------- evaluating  ----------------------\u001b[0m\n",
      "\u001b[31m---------------------- train_RMSE: 3.206  ----------------------\u001b[0m\n",
      "\u001b[31m----------------------  test_RMSE: 4.771  ----------------------\u001b[0m\n",
      "\u001b[32m---------------------- logging params and metrics  ----------------------\u001b[0m\n",
      "Wall time: 11min 11s\n"
     ]
    }
   ],
   "source": [
    "%%time\n",
    "xgb = Trainer(df, mlflow=True, estimator_params=dict(\n",
    "                                                    n_estimators=[100],\n",
    "                                                    max_depth=[4],\n",
    "                                                    min_child_weight=[2],\n",
    "                                                    learning_rate=[0.1]\n",
    "                                                ))\n",
    "xgb.train_model()\n",
    "xgb.evaluate()"
   ]
  },
  {
   "cell_type": "code",
   "execution_count": 26,
   "metadata": {},
   "outputs": [
    {
     "name": "stdout",
     "output_type": "stream",
     "text": [
      "\u001b[32m---------------------- loading data  ----------------------\u001b[0m\n",
      "\u001b[31m---------------------- split = True ----------------------\u001b[0m\n",
      "{'test_size': 0.1, 'random_state': 5}\n",
      "\u001b[34m---------------------- splitting train/val  ----------------------\u001b[0m\n",
      "\u001b[34m---------------------- cleaning data  ----------------------\u001b[0m\n",
      "\u001b[34m---------------------- getting pipeline  ----------------------\u001b[0m\n",
      "\u001b[34m---------------------- getting estimator  ----------------------\u001b[0m\n",
      "\u001b[31m---------------------- XGBRegressor ----------------------\u001b[0m\n",
      "\u001b[32m---------------------- start training  ----------------------\u001b[0m\n",
      "Fitting 5 folds for each of 1 candidates, totalling 5 fits\n"
     ]
    },
    {
     "name": "stderr",
     "output_type": "stream",
     "text": [
      "[Parallel(n_jobs=1)]: Using backend SequentialBackend with 1 concurrent workers.\n",
      "[Parallel(n_jobs=1)]: Done   5 out of   5 | elapsed: 11.1min finished\n"
     ]
    },
    {
     "name": "stdout",
     "output_type": "stream",
     "text": [
      "\u001b[31m---------------------- best_params ----------------------\u001b[0m\n",
      "{'model__learning_rate': 0.1, 'model__max_depth': 5, 'model__min_child_weight': 2, 'model__n_estimators': 100}\n",
      "train time: 841\n",
      "\u001b[32m---------------------- evaluating  ----------------------\u001b[0m\n",
      "\u001b[31m---------------------- train_RMSE: 3.084  ----------------------\u001b[0m\n",
      "\u001b[31m----------------------  test_RMSE: 4.74  ----------------------\u001b[0m\n",
      "\u001b[32m---------------------- logging params and metrics  ----------------------\u001b[0m\n",
      "Wall time: 14min 14s\n"
     ]
    }
   ],
   "source": [
    "%%time\n",
    "xgb = Trainer(df, mlflow=True, estimator_params=dict(\n",
    "                                                    n_estimators=[100],\n",
    "                                                    max_depth=[5],\n",
    "                                                    min_child_weight=[2],\n",
    "                                                    learning_rate=[0.1]\n",
    "                                                ))\n",
    "xgb.train_model()\n",
    "xgb.evaluate()"
   ]
  },
  {
   "cell_type": "code",
   "execution_count": 29,
   "metadata": {},
   "outputs": [
    {
     "name": "stdout",
     "output_type": "stream",
     "text": [
      "\u001b[32m---------------------- loading data  ----------------------\u001b[0m\n",
      "\u001b[31m---------------------- split = True ----------------------\u001b[0m\n",
      "{'test_size': 0.1, 'random_state': 5}\n",
      "\u001b[34m---------------------- splitting train/val  ----------------------\u001b[0m\n",
      "\u001b[34m---------------------- cleaning data  ----------------------\u001b[0m\n",
      "\u001b[34m---------------------- getting pipeline  ----------------------\u001b[0m\n",
      "\u001b[34m---------------------- getting estimator  ----------------------\u001b[0m\n",
      "\u001b[31m---------------------- XGBRegressor ----------------------\u001b[0m\n",
      "\u001b[32m---------------------- start training  ----------------------\u001b[0m\n",
      "Fitting 5 folds for each of 1 candidates, totalling 5 fits\n"
     ]
    },
    {
     "name": "stderr",
     "output_type": "stream",
     "text": [
      "[Parallel(n_jobs=1)]: Using backend SequentialBackend with 1 concurrent workers.\n",
      "[Parallel(n_jobs=1)]: Done   5 out of   5 | elapsed: 13.3min finished\n"
     ]
    },
    {
     "name": "stdout",
     "output_type": "stream",
     "text": [
      "\u001b[31m---------------------- best_params ----------------------\u001b[0m\n",
      "{'model__learning_rate': 0.1, 'model__max_depth': 6, 'model__min_child_weight': 2, 'model__n_estimators': 100}\n",
      "train time: 995\n",
      "\u001b[32m---------------------- evaluating  ----------------------\u001b[0m\n",
      "\u001b[31m---------------------- train_RMSE: 2.948  ----------------------\u001b[0m\n",
      "\u001b[31m----------------------  test_RMSE: 4.807  ----------------------\u001b[0m\n",
      "\u001b[32m---------------------- logging params and metrics  ----------------------\u001b[0m\n",
      "Wall time: 16min 46s\n"
     ]
    }
   ],
   "source": [
    "%%time\n",
    "xgb = Trainer(df, mlflow=True, estimator_params=dict(\n",
    "                                                    n_estimators=[100],\n",
    "                                                    max_depth=[6],\n",
    "                                                    min_child_weight=[2],\n",
    "                                                    learning_rate=[0.1]\n",
    "                                                ))\n",
    "xgb.train_model()\n",
    "xgb.evaluate()"
   ]
  },
  {
   "cell_type": "markdown",
   "metadata": {},
   "source": [
    "## min_child_weight"
   ]
  },
  {
   "cell_type": "code",
   "execution_count": 28,
   "metadata": {},
   "outputs": [
    {
     "name": "stdout",
     "output_type": "stream",
     "text": [
      "\u001b[32m---------------------- loading data  ----------------------\u001b[0m\n",
      "\u001b[31m---------------------- split = True ----------------------\u001b[0m\n",
      "{'test_size': 0.1, 'random_state': 5}\n",
      "\u001b[34m---------------------- splitting train/val  ----------------------\u001b[0m\n",
      "\u001b[34m---------------------- cleaning data  ----------------------\u001b[0m\n",
      "\u001b[34m---------------------- getting pipeline  ----------------------\u001b[0m\n",
      "\u001b[34m---------------------- getting estimator  ----------------------\u001b[0m\n",
      "\u001b[31m---------------------- XGBRegressor ----------------------\u001b[0m\n",
      "\u001b[32m---------------------- start training  ----------------------\u001b[0m\n",
      "Fitting 5 folds for each of 1 candidates, totalling 5 fits\n"
     ]
    },
    {
     "name": "stderr",
     "output_type": "stream",
     "text": [
      "[Parallel(n_jobs=1)]: Using backend SequentialBackend with 1 concurrent workers.\n",
      "[Parallel(n_jobs=1)]: Done   5 out of   5 | elapsed:  8.8min finished\n"
     ]
    },
    {
     "name": "stdout",
     "output_type": "stream",
     "text": [
      "\u001b[31m---------------------- best_params ----------------------\u001b[0m\n",
      "{'model__learning_rate': 0.1, 'model__max_depth': 4, 'model__min_child_weight': 2, 'model__n_estimators': 100}\n",
      "train time: 659\n",
      "\u001b[32m---------------------- evaluating  ----------------------\u001b[0m\n",
      "\u001b[31m---------------------- train_RMSE: 3.206  ----------------------\u001b[0m\n",
      "\u001b[31m----------------------  test_RMSE: 4.771  ----------------------\u001b[0m\n",
      "\u001b[32m---------------------- logging params and metrics  ----------------------\u001b[0m\n",
      "Wall time: 11min 11s\n"
     ]
    }
   ],
   "source": [
    "%%time\n",
    "xgb = Trainer(df, mlflow=True, estimator_params=dict(\n",
    "                                                    n_estimators=[100],\n",
    "                                                    max_depth=[5],\n",
    "                                                    min_child_weight=[2],\n",
    "                                                    learning_rate=[0.1]\n",
    "                                                ))\n",
    "xgb.train_model()\n",
    "xgb.evaluate()"
   ]
  },
  {
   "cell_type": "code",
   "execution_count": null,
   "metadata": {},
   "outputs": [],
   "source": []
  },
  {
   "cell_type": "markdown",
   "metadata": {},
   "source": [
    "## learning_rate"
   ]
  }
 ],
 "metadata": {
  "kernelspec": {
   "display_name": "Python 3",
   "language": "python",
   "name": "python3"
  },
  "language_info": {
   "codemirror_mode": {
    "name": "ipython",
    "version": 3
   },
   "file_extension": ".py",
   "mimetype": "text/x-python",
   "name": "python",
   "nbconvert_exporter": "python",
   "pygments_lexer": "ipython3",
   "version": "3.7.7"
  },
  "toc": {
   "base_numbering": 1,
   "nav_menu": {
    "height": "140px",
    "width": "164px"
   },
   "number_sections": true,
   "sideBar": true,
   "skip_h1_title": false,
   "title_cell": "Table of Contents",
   "title_sidebar": "Contents",
   "toc_cell": false,
   "toc_position": {},
   "toc_section_display": true,
   "toc_window_display": false
  }
 },
 "nbformat": 4,
 "nbformat_minor": 4
}
